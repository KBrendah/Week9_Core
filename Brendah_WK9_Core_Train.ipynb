{
  "nbformat": 4,
  "nbformat_minor": 0,
  "metadata": {
    "colab": {
      "name": "Brendah_WK9_Core_Train",
      "provenance": [],
      "collapsed_sections": [],
      "authorship_tag": "ABX9TyMPJqRMY4qM/VmCM7arqOa6",
      "include_colab_link": true
    },
    "kernelspec": {
      "name": "python3",
      "display_name": "Python 3"
    },
    "language_info": {
      "name": "python"
    }
  },
  "cells": [
    {
      "cell_type": "markdown",
      "metadata": {
        "id": "view-in-github",
        "colab_type": "text"
      },
      "source": [
        "<a href=\"https://colab.research.google.com/github/Mbatiany/Week9_Core/blob/main/Brendah_WK9_Core_Train.ipynb\" target=\"_parent\"><img src=\"https://colab.research.google.com/assets/colab-badge.svg\" alt=\"Open In Colab\"/></a>"
      ]
    },
    {
      "cell_type": "markdown",
      "source": [
        "##1.Introduction##\n",
        "###Overview###\n",
        "This week's project requires us to implement a K-nearest neighbor (kNN) classifier  and a Naive Bayes classifier. Once we conduct the experiments, we will calculate the resulting metrics:"
      ],
      "metadata": {
        "id": "XN9qa_deHFjL"
      }
    },
    {
      "cell_type": "markdown",
      "source": [
        "###1.1 Research Question###\n",
        "We are expected to use KNN to predict whether a passenger aboard the Titanic survived or not."
      ],
      "metadata": {
        "id": "tsIjZUSlIVDN"
      }
    },
    {
      "cell_type": "markdown",
      "source": [
        "###1.2 Metric for Success###\n",
        "Our model would be considered a success if it is able to compute an accuracy score of at least 80%."
      ],
      "metadata": {
        "id": "IkjHruDQIV0O"
      }
    },
    {
      "cell_type": "markdown",
      "source": [
        "###1.3 Context###\n",
        "The RMS Titanic was a British ship that crashed into an iceberg and led to the untimely demise of hundreds of passengers on its maiden voyage in April 1912."
      ],
      "metadata": {
        "id": "MiH2h9J_IWZN"
      }
    },
    {
      "cell_type": "markdown",
      "source": [
        "###1.4 Experimental Design###\n",
        "1.Prepare dataset(s) and clean them\n",
        "\n",
        "2.Carry out exhaustive EDA\n",
        "\n",
        "3.Carry out modelling using KNN\n",
        "\n",
        "4.Optimize the KNN model\n",
        "\n",
        "5.Challenge the Solution\n",
        "\n",
        "6.Document everything."
      ],
      "metadata": {
        "id": "30TMeAWRIXJT"
      }
    },
    {
      "cell_type": "markdown",
      "source": [
        "###1.5 Appropriateness of Data###\n",
        "I found the data to be very appropriate for the task. However, in some cases, it would have been better if the variables were a bit more clear. For example, on the 'Parch' variable, I did not understand whether it meant that the passenger had a parent or a child with them or both. The same can be said for the 'SibSp' variable."
      ],
      "metadata": {
        "id": "62I3Vy3sJNv-"
      }
    },
    {
      "cell_type": "markdown",
      "source": [
        "##2.Data Preparation & Cleaning##\n"
      ],
      "metadata": {
        "id": "58FbJJZYvYBs"
      }
    },
    {
      "cell_type": "code",
      "execution_count": 3,
      "metadata": {
        "id": "A9JNRTxeZ5hO"
      },
      "outputs": [],
      "source": [
        "# Importing Libraries we will use for this project analysis\n",
        "\n",
        "import pandas as pd  # for data processing\n",
        "import numpy as np  # for numerical calculations\n",
        "\n",
        "\n",
        "# Data Visualization Libraries\n",
        "import seaborn as sns\n",
        "\n",
        "\n",
        "import matplotlib.pyplot as plt\n",
        "from matplotlib.ticker import StrMethodFormatter\n",
        "%matplotlib inline\n",
        "\n",
        "# \n",
        "import requests\n",
        "from io import StringIO\n",
        "import pandas_profiling as pp\n",
        "\n",
        "# Sklearn libraries for data preparartion and performance measures\n",
        "from sklearn.model_selection import train_test_split, RandomizedSearchCV, GridSearchCV, KFold, cross_val_predict\n",
        "from sklearn.preprocessing import StandardScaler, MinMaxScaler, RobustScaler, normalize, Normalizer\n",
        "from sklearn.metrics import accuracy_score, classification_report, confusion_matrix\n",
        "from sklearn.discriminant_analysis import LinearDiscriminantAnalysis as LDA\n",
        "from sklearn.decomposition import PCA\n",
        "\n",
        "# Algorithms\n",
        "from sklearn.naive_bayes import MultinomialNB, GaussianNB, BernoulliNB\n",
        "from sklearn.neighbors import KNeighborsClassifier\n",
        "\n",
        "from sklearn.ensemble import RandomForestClassifier\n",
        "from sklearn.svm import SVC\n",
        "from xgboost import XGBClassifier"
      ]
    },
    {
      "cell_type": "code",
      "source": [
        "# loading & previewing train dataset\n",
        "train = pd.read_csv('train.csv', index_col = 'PassengerId')\n",
        "train.head()"
      ],
      "metadata": {
        "colab": {
          "base_uri": "https://localhost:8080/",
          "height": 237
        },
        "id": "-7PiC0NXaCcX",
        "outputId": "09f0ec59-2f62-4fd4-c885-72f9fbd50142"
      },
      "execution_count": 4,
      "outputs": [
        {
          "output_type": "execute_result",
          "data": {
            "text/html": [
              "\n",
              "  <div id=\"df-4f330d6f-77a3-4c56-a288-b2259f3c8341\">\n",
              "    <div class=\"colab-df-container\">\n",
              "      <div>\n",
              "<style scoped>\n",
              "    .dataframe tbody tr th:only-of-type {\n",
              "        vertical-align: middle;\n",
              "    }\n",
              "\n",
              "    .dataframe tbody tr th {\n",
              "        vertical-align: top;\n",
              "    }\n",
              "\n",
              "    .dataframe thead th {\n",
              "        text-align: right;\n",
              "    }\n",
              "</style>\n",
              "<table border=\"1\" class=\"dataframe\">\n",
              "  <thead>\n",
              "    <tr style=\"text-align: right;\">\n",
              "      <th></th>\n",
              "      <th>Survived</th>\n",
              "      <th>Pclass</th>\n",
              "      <th>Name</th>\n",
              "      <th>Sex</th>\n",
              "      <th>Age</th>\n",
              "      <th>SibSp</th>\n",
              "      <th>Parch</th>\n",
              "      <th>Ticket</th>\n",
              "      <th>Fare</th>\n",
              "      <th>Cabin</th>\n",
              "      <th>Embarked</th>\n",
              "    </tr>\n",
              "    <tr>\n",
              "      <th>PassengerId</th>\n",
              "      <th></th>\n",
              "      <th></th>\n",
              "      <th></th>\n",
              "      <th></th>\n",
              "      <th></th>\n",
              "      <th></th>\n",
              "      <th></th>\n",
              "      <th></th>\n",
              "      <th></th>\n",
              "      <th></th>\n",
              "      <th></th>\n",
              "    </tr>\n",
              "  </thead>\n",
              "  <tbody>\n",
              "    <tr>\n",
              "      <th>1</th>\n",
              "      <td>0</td>\n",
              "      <td>3</td>\n",
              "      <td>Braund, Mr. Owen Harris</td>\n",
              "      <td>male</td>\n",
              "      <td>22.0</td>\n",
              "      <td>1</td>\n",
              "      <td>0</td>\n",
              "      <td>A/5 21171</td>\n",
              "      <td>7.2500</td>\n",
              "      <td>NaN</td>\n",
              "      <td>S</td>\n",
              "    </tr>\n",
              "    <tr>\n",
              "      <th>2</th>\n",
              "      <td>1</td>\n",
              "      <td>1</td>\n",
              "      <td>Cumings, Mrs. John Bradley (Florence Briggs Th...</td>\n",
              "      <td>female</td>\n",
              "      <td>38.0</td>\n",
              "      <td>1</td>\n",
              "      <td>0</td>\n",
              "      <td>PC 17599</td>\n",
              "      <td>71.2833</td>\n",
              "      <td>C85</td>\n",
              "      <td>C</td>\n",
              "    </tr>\n",
              "    <tr>\n",
              "      <th>3</th>\n",
              "      <td>1</td>\n",
              "      <td>3</td>\n",
              "      <td>Heikkinen, Miss. Laina</td>\n",
              "      <td>female</td>\n",
              "      <td>26.0</td>\n",
              "      <td>0</td>\n",
              "      <td>0</td>\n",
              "      <td>STON/O2. 3101282</td>\n",
              "      <td>7.9250</td>\n",
              "      <td>NaN</td>\n",
              "      <td>S</td>\n",
              "    </tr>\n",
              "    <tr>\n",
              "      <th>4</th>\n",
              "      <td>1</td>\n",
              "      <td>1</td>\n",
              "      <td>Futrelle, Mrs. Jacques Heath (Lily May Peel)</td>\n",
              "      <td>female</td>\n",
              "      <td>35.0</td>\n",
              "      <td>1</td>\n",
              "      <td>0</td>\n",
              "      <td>113803</td>\n",
              "      <td>53.1000</td>\n",
              "      <td>C123</td>\n",
              "      <td>S</td>\n",
              "    </tr>\n",
              "    <tr>\n",
              "      <th>5</th>\n",
              "      <td>0</td>\n",
              "      <td>3</td>\n",
              "      <td>Allen, Mr. William Henry</td>\n",
              "      <td>male</td>\n",
              "      <td>35.0</td>\n",
              "      <td>0</td>\n",
              "      <td>0</td>\n",
              "      <td>373450</td>\n",
              "      <td>8.0500</td>\n",
              "      <td>NaN</td>\n",
              "      <td>S</td>\n",
              "    </tr>\n",
              "  </tbody>\n",
              "</table>\n",
              "</div>\n",
              "      <button class=\"colab-df-convert\" onclick=\"convertToInteractive('df-4f330d6f-77a3-4c56-a288-b2259f3c8341')\"\n",
              "              title=\"Convert this dataframe to an interactive table.\"\n",
              "              style=\"display:none;\">\n",
              "        \n",
              "  <svg xmlns=\"http://www.w3.org/2000/svg\" height=\"24px\"viewBox=\"0 0 24 24\"\n",
              "       width=\"24px\">\n",
              "    <path d=\"M0 0h24v24H0V0z\" fill=\"none\"/>\n",
              "    <path d=\"M18.56 5.44l.94 2.06.94-2.06 2.06-.94-2.06-.94-.94-2.06-.94 2.06-2.06.94zm-11 1L8.5 8.5l.94-2.06 2.06-.94-2.06-.94L8.5 2.5l-.94 2.06-2.06.94zm10 10l.94 2.06.94-2.06 2.06-.94-2.06-.94-.94-2.06-.94 2.06-2.06.94z\"/><path d=\"M17.41 7.96l-1.37-1.37c-.4-.4-.92-.59-1.43-.59-.52 0-1.04.2-1.43.59L10.3 9.45l-7.72 7.72c-.78.78-.78 2.05 0 2.83L4 21.41c.39.39.9.59 1.41.59.51 0 1.02-.2 1.41-.59l7.78-7.78 2.81-2.81c.8-.78.8-2.07 0-2.86zM5.41 20L4 18.59l7.72-7.72 1.47 1.35L5.41 20z\"/>\n",
              "  </svg>\n",
              "      </button>\n",
              "      \n",
              "  <style>\n",
              "    .colab-df-container {\n",
              "      display:flex;\n",
              "      flex-wrap:wrap;\n",
              "      gap: 12px;\n",
              "    }\n",
              "\n",
              "    .colab-df-convert {\n",
              "      background-color: #E8F0FE;\n",
              "      border: none;\n",
              "      border-radius: 50%;\n",
              "      cursor: pointer;\n",
              "      display: none;\n",
              "      fill: #1967D2;\n",
              "      height: 32px;\n",
              "      padding: 0 0 0 0;\n",
              "      width: 32px;\n",
              "    }\n",
              "\n",
              "    .colab-df-convert:hover {\n",
              "      background-color: #E2EBFA;\n",
              "      box-shadow: 0px 1px 2px rgba(60, 64, 67, 0.3), 0px 1px 3px 1px rgba(60, 64, 67, 0.15);\n",
              "      fill: #174EA6;\n",
              "    }\n",
              "\n",
              "    [theme=dark] .colab-df-convert {\n",
              "      background-color: #3B4455;\n",
              "      fill: #D2E3FC;\n",
              "    }\n",
              "\n",
              "    [theme=dark] .colab-df-convert:hover {\n",
              "      background-color: #434B5C;\n",
              "      box-shadow: 0px 1px 3px 1px rgba(0, 0, 0, 0.15);\n",
              "      filter: drop-shadow(0px 1px 2px rgba(0, 0, 0, 0.3));\n",
              "      fill: #FFFFFF;\n",
              "    }\n",
              "  </style>\n",
              "\n",
              "      <script>\n",
              "        const buttonEl =\n",
              "          document.querySelector('#df-4f330d6f-77a3-4c56-a288-b2259f3c8341 button.colab-df-convert');\n",
              "        buttonEl.style.display =\n",
              "          google.colab.kernel.accessAllowed ? 'block' : 'none';\n",
              "\n",
              "        async function convertToInteractive(key) {\n",
              "          const element = document.querySelector('#df-4f330d6f-77a3-4c56-a288-b2259f3c8341');\n",
              "          const dataTable =\n",
              "            await google.colab.kernel.invokeFunction('convertToInteractive',\n",
              "                                                     [key], {});\n",
              "          if (!dataTable) return;\n",
              "\n",
              "          const docLinkHtml = 'Like what you see? Visit the ' +\n",
              "            '<a target=\"_blank\" href=https://colab.research.google.com/notebooks/data_table.ipynb>data table notebook</a>'\n",
              "            + ' to learn more about interactive tables.';\n",
              "          element.innerHTML = '';\n",
              "          dataTable['output_type'] = 'display_data';\n",
              "          await google.colab.output.renderOutput(dataTable, element);\n",
              "          const docLink = document.createElement('div');\n",
              "          docLink.innerHTML = docLinkHtml;\n",
              "          element.appendChild(docLink);\n",
              "        }\n",
              "      </script>\n",
              "    </div>\n",
              "  </div>\n",
              "  "
            ],
            "text/plain": [
              "             Survived  Pclass  ... Cabin Embarked\n",
              "PassengerId                    ...               \n",
              "1                   0       3  ...   NaN        S\n",
              "2                   1       1  ...   C85        C\n",
              "3                   1       3  ...   NaN        S\n",
              "4                   1       1  ...  C123        S\n",
              "5                   0       3  ...   NaN        S\n",
              "\n",
              "[5 rows x 11 columns]"
            ]
          },
          "metadata": {},
          "execution_count": 4
        }
      ]
    },
    {
      "cell_type": "code",
      "source": [
        "train.tail(5)"
      ],
      "metadata": {
        "colab": {
          "base_uri": "https://localhost:8080/",
          "height": 237
        },
        "id": "ioVhKVQiaCmQ",
        "outputId": "48e03557-e800-48a3-edb9-609fbba06140"
      },
      "execution_count": 5,
      "outputs": [
        {
          "output_type": "execute_result",
          "data": {
            "text/html": [
              "\n",
              "  <div id=\"df-98d8f42a-4a9f-4631-9c5f-25d8d4dd4983\">\n",
              "    <div class=\"colab-df-container\">\n",
              "      <div>\n",
              "<style scoped>\n",
              "    .dataframe tbody tr th:only-of-type {\n",
              "        vertical-align: middle;\n",
              "    }\n",
              "\n",
              "    .dataframe tbody tr th {\n",
              "        vertical-align: top;\n",
              "    }\n",
              "\n",
              "    .dataframe thead th {\n",
              "        text-align: right;\n",
              "    }\n",
              "</style>\n",
              "<table border=\"1\" class=\"dataframe\">\n",
              "  <thead>\n",
              "    <tr style=\"text-align: right;\">\n",
              "      <th></th>\n",
              "      <th>Survived</th>\n",
              "      <th>Pclass</th>\n",
              "      <th>Name</th>\n",
              "      <th>Sex</th>\n",
              "      <th>Age</th>\n",
              "      <th>SibSp</th>\n",
              "      <th>Parch</th>\n",
              "      <th>Ticket</th>\n",
              "      <th>Fare</th>\n",
              "      <th>Cabin</th>\n",
              "      <th>Embarked</th>\n",
              "    </tr>\n",
              "    <tr>\n",
              "      <th>PassengerId</th>\n",
              "      <th></th>\n",
              "      <th></th>\n",
              "      <th></th>\n",
              "      <th></th>\n",
              "      <th></th>\n",
              "      <th></th>\n",
              "      <th></th>\n",
              "      <th></th>\n",
              "      <th></th>\n",
              "      <th></th>\n",
              "      <th></th>\n",
              "    </tr>\n",
              "  </thead>\n",
              "  <tbody>\n",
              "    <tr>\n",
              "      <th>887</th>\n",
              "      <td>0</td>\n",
              "      <td>2</td>\n",
              "      <td>Montvila, Rev. Juozas</td>\n",
              "      <td>male</td>\n",
              "      <td>27.0</td>\n",
              "      <td>0</td>\n",
              "      <td>0</td>\n",
              "      <td>211536</td>\n",
              "      <td>13.00</td>\n",
              "      <td>NaN</td>\n",
              "      <td>S</td>\n",
              "    </tr>\n",
              "    <tr>\n",
              "      <th>888</th>\n",
              "      <td>1</td>\n",
              "      <td>1</td>\n",
              "      <td>Graham, Miss. Margaret Edith</td>\n",
              "      <td>female</td>\n",
              "      <td>19.0</td>\n",
              "      <td>0</td>\n",
              "      <td>0</td>\n",
              "      <td>112053</td>\n",
              "      <td>30.00</td>\n",
              "      <td>B42</td>\n",
              "      <td>S</td>\n",
              "    </tr>\n",
              "    <tr>\n",
              "      <th>889</th>\n",
              "      <td>0</td>\n",
              "      <td>3</td>\n",
              "      <td>Johnston, Miss. Catherine Helen \"Carrie\"</td>\n",
              "      <td>female</td>\n",
              "      <td>NaN</td>\n",
              "      <td>1</td>\n",
              "      <td>2</td>\n",
              "      <td>W./C. 6607</td>\n",
              "      <td>23.45</td>\n",
              "      <td>NaN</td>\n",
              "      <td>S</td>\n",
              "    </tr>\n",
              "    <tr>\n",
              "      <th>890</th>\n",
              "      <td>1</td>\n",
              "      <td>1</td>\n",
              "      <td>Behr, Mr. Karl Howell</td>\n",
              "      <td>male</td>\n",
              "      <td>26.0</td>\n",
              "      <td>0</td>\n",
              "      <td>0</td>\n",
              "      <td>111369</td>\n",
              "      <td>30.00</td>\n",
              "      <td>C148</td>\n",
              "      <td>C</td>\n",
              "    </tr>\n",
              "    <tr>\n",
              "      <th>891</th>\n",
              "      <td>0</td>\n",
              "      <td>3</td>\n",
              "      <td>Dooley, Mr. Patrick</td>\n",
              "      <td>male</td>\n",
              "      <td>32.0</td>\n",
              "      <td>0</td>\n",
              "      <td>0</td>\n",
              "      <td>370376</td>\n",
              "      <td>7.75</td>\n",
              "      <td>NaN</td>\n",
              "      <td>Q</td>\n",
              "    </tr>\n",
              "  </tbody>\n",
              "</table>\n",
              "</div>\n",
              "      <button class=\"colab-df-convert\" onclick=\"convertToInteractive('df-98d8f42a-4a9f-4631-9c5f-25d8d4dd4983')\"\n",
              "              title=\"Convert this dataframe to an interactive table.\"\n",
              "              style=\"display:none;\">\n",
              "        \n",
              "  <svg xmlns=\"http://www.w3.org/2000/svg\" height=\"24px\"viewBox=\"0 0 24 24\"\n",
              "       width=\"24px\">\n",
              "    <path d=\"M0 0h24v24H0V0z\" fill=\"none\"/>\n",
              "    <path d=\"M18.56 5.44l.94 2.06.94-2.06 2.06-.94-2.06-.94-.94-2.06-.94 2.06-2.06.94zm-11 1L8.5 8.5l.94-2.06 2.06-.94-2.06-.94L8.5 2.5l-.94 2.06-2.06.94zm10 10l.94 2.06.94-2.06 2.06-.94-2.06-.94-.94-2.06-.94 2.06-2.06.94z\"/><path d=\"M17.41 7.96l-1.37-1.37c-.4-.4-.92-.59-1.43-.59-.52 0-1.04.2-1.43.59L10.3 9.45l-7.72 7.72c-.78.78-.78 2.05 0 2.83L4 21.41c.39.39.9.59 1.41.59.51 0 1.02-.2 1.41-.59l7.78-7.78 2.81-2.81c.8-.78.8-2.07 0-2.86zM5.41 20L4 18.59l7.72-7.72 1.47 1.35L5.41 20z\"/>\n",
              "  </svg>\n",
              "      </button>\n",
              "      \n",
              "  <style>\n",
              "    .colab-df-container {\n",
              "      display:flex;\n",
              "      flex-wrap:wrap;\n",
              "      gap: 12px;\n",
              "    }\n",
              "\n",
              "    .colab-df-convert {\n",
              "      background-color: #E8F0FE;\n",
              "      border: none;\n",
              "      border-radius: 50%;\n",
              "      cursor: pointer;\n",
              "      display: none;\n",
              "      fill: #1967D2;\n",
              "      height: 32px;\n",
              "      padding: 0 0 0 0;\n",
              "      width: 32px;\n",
              "    }\n",
              "\n",
              "    .colab-df-convert:hover {\n",
              "      background-color: #E2EBFA;\n",
              "      box-shadow: 0px 1px 2px rgba(60, 64, 67, 0.3), 0px 1px 3px 1px rgba(60, 64, 67, 0.15);\n",
              "      fill: #174EA6;\n",
              "    }\n",
              "\n",
              "    [theme=dark] .colab-df-convert {\n",
              "      background-color: #3B4455;\n",
              "      fill: #D2E3FC;\n",
              "    }\n",
              "\n",
              "    [theme=dark] .colab-df-convert:hover {\n",
              "      background-color: #434B5C;\n",
              "      box-shadow: 0px 1px 3px 1px rgba(0, 0, 0, 0.15);\n",
              "      filter: drop-shadow(0px 1px 2px rgba(0, 0, 0, 0.3));\n",
              "      fill: #FFFFFF;\n",
              "    }\n",
              "  </style>\n",
              "\n",
              "      <script>\n",
              "        const buttonEl =\n",
              "          document.querySelector('#df-98d8f42a-4a9f-4631-9c5f-25d8d4dd4983 button.colab-df-convert');\n",
              "        buttonEl.style.display =\n",
              "          google.colab.kernel.accessAllowed ? 'block' : 'none';\n",
              "\n",
              "        async function convertToInteractive(key) {\n",
              "          const element = document.querySelector('#df-98d8f42a-4a9f-4631-9c5f-25d8d4dd4983');\n",
              "          const dataTable =\n",
              "            await google.colab.kernel.invokeFunction('convertToInteractive',\n",
              "                                                     [key], {});\n",
              "          if (!dataTable) return;\n",
              "\n",
              "          const docLinkHtml = 'Like what you see? Visit the ' +\n",
              "            '<a target=\"_blank\" href=https://colab.research.google.com/notebooks/data_table.ipynb>data table notebook</a>'\n",
              "            + ' to learn more about interactive tables.';\n",
              "          element.innerHTML = '';\n",
              "          dataTable['output_type'] = 'display_data';\n",
              "          await google.colab.output.renderOutput(dataTable, element);\n",
              "          const docLink = document.createElement('div');\n",
              "          docLink.innerHTML = docLinkHtml;\n",
              "          element.appendChild(docLink);\n",
              "        }\n",
              "      </script>\n",
              "    </div>\n",
              "  </div>\n",
              "  "
            ],
            "text/plain": [
              "             Survived  Pclass  ... Cabin Embarked\n",
              "PassengerId                    ...               \n",
              "887                 0       2  ...   NaN        S\n",
              "888                 1       1  ...   B42        S\n",
              "889                 0       3  ...   NaN        S\n",
              "890                 1       1  ...  C148        C\n",
              "891                 0       3  ...   NaN        Q\n",
              "\n",
              "[5 rows x 11 columns]"
            ]
          },
          "metadata": {},
          "execution_count": 5
        }
      ]
    },
    {
      "cell_type": "markdown",
      "source": [
        "\n",
        "\n",
        "We need to convert a lot of features into numeric ones later on, so that the machine learning algorithms can process them.\n",
        "\n"
      ],
      "metadata": {
        "id": "gOUO-DHbchYE"
      }
    },
    {
      "cell_type": "code",
      "source": [
        "# dropping Name, Ticket, and Cabin since I consider them useless when it comes\n",
        "# to determining whether or not someone will survive\n",
        "train.drop(columns = ['Name', 'Ticket', 'Cabin'], axis = 1, inplace = True)"
      ],
      "metadata": {
        "id": "XsqTjaaPnDID"
      },
      "execution_count": 6,
      "outputs": []
    },
    {
      "cell_type": "code",
      "source": [
        "# viewing summary information for our train set\n",
        "\n",
        "train.info()"
      ],
      "metadata": {
        "colab": {
          "base_uri": "https://localhost:8080/"
        },
        "id": "iOhNtI1zaCob",
        "outputId": "171597a0-0dca-4b1e-8d2b-f338bd4b42ab"
      },
      "execution_count": 7,
      "outputs": [
        {
          "output_type": "stream",
          "name": "stdout",
          "text": [
            "<class 'pandas.core.frame.DataFrame'>\n",
            "Int64Index: 891 entries, 1 to 891\n",
            "Data columns (total 8 columns):\n",
            " #   Column    Non-Null Count  Dtype  \n",
            "---  ------    --------------  -----  \n",
            " 0   Survived  891 non-null    int64  \n",
            " 1   Pclass    891 non-null    int64  \n",
            " 2   Sex       891 non-null    object \n",
            " 3   Age       714 non-null    float64\n",
            " 4   SibSp     891 non-null    int64  \n",
            " 5   Parch     891 non-null    int64  \n",
            " 6   Fare      891 non-null    float64\n",
            " 7   Embarked  889 non-null    object \n",
            "dtypes: float64(2), int64(4), object(2)\n",
            "memory usage: 62.6+ KB\n"
          ]
        }
      ]
    },
    {
      "cell_type": "code",
      "source": [
        "# checking for unique values \n",
        "\n",
        "cols = ['Pclass', 'Sex', 'SibSp', 'Parch', 'Embarked']\n",
        "\n",
        "for col in cols:\n",
        "  print(col)\n",
        "  print(train[col].unique())\n",
        "  print('\\n')"
      ],
      "metadata": {
        "colab": {
          "base_uri": "https://localhost:8080/"
        },
        "id": "x8fKdiWVaCq2",
        "outputId": "8f983b45-de5e-4c23-f60e-a131743c3010"
      },
      "execution_count": 8,
      "outputs": [
        {
          "output_type": "stream",
          "name": "stdout",
          "text": [
            "Pclass\n",
            "[3 1 2]\n",
            "\n",
            "\n",
            "Sex\n",
            "['male' 'female']\n",
            "\n",
            "\n",
            "SibSp\n",
            "[1 0 3 4 2 5 8]\n",
            "\n",
            "\n",
            "Parch\n",
            "[0 1 2 5 3 4 6]\n",
            "\n",
            "\n",
            "Embarked\n",
            "['S' 'C' 'Q' nan]\n",
            "\n",
            "\n"
          ]
        }
      ]
    },
    {
      "cell_type": "code",
      "source": [
        "# Summary statistics of the two sets\n",
        "# \n",
        "train.describe()"
      ],
      "metadata": {
        "colab": {
          "base_uri": "https://localhost:8080/",
          "height": 300
        },
        "id": "Qyzqq6ylaCtc",
        "outputId": "f27699a6-6e5a-46b6-a3e9-1fe3cdbf82d2"
      },
      "execution_count": 9,
      "outputs": [
        {
          "output_type": "execute_result",
          "data": {
            "text/html": [
              "\n",
              "  <div id=\"df-ab37f26b-ca9d-4b58-849b-471dfcf98243\">\n",
              "    <div class=\"colab-df-container\">\n",
              "      <div>\n",
              "<style scoped>\n",
              "    .dataframe tbody tr th:only-of-type {\n",
              "        vertical-align: middle;\n",
              "    }\n",
              "\n",
              "    .dataframe tbody tr th {\n",
              "        vertical-align: top;\n",
              "    }\n",
              "\n",
              "    .dataframe thead th {\n",
              "        text-align: right;\n",
              "    }\n",
              "</style>\n",
              "<table border=\"1\" class=\"dataframe\">\n",
              "  <thead>\n",
              "    <tr style=\"text-align: right;\">\n",
              "      <th></th>\n",
              "      <th>Survived</th>\n",
              "      <th>Pclass</th>\n",
              "      <th>Age</th>\n",
              "      <th>SibSp</th>\n",
              "      <th>Parch</th>\n",
              "      <th>Fare</th>\n",
              "    </tr>\n",
              "  </thead>\n",
              "  <tbody>\n",
              "    <tr>\n",
              "      <th>count</th>\n",
              "      <td>891.000000</td>\n",
              "      <td>891.000000</td>\n",
              "      <td>714.000000</td>\n",
              "      <td>891.000000</td>\n",
              "      <td>891.000000</td>\n",
              "      <td>891.000000</td>\n",
              "    </tr>\n",
              "    <tr>\n",
              "      <th>mean</th>\n",
              "      <td>0.383838</td>\n",
              "      <td>2.308642</td>\n",
              "      <td>29.699118</td>\n",
              "      <td>0.523008</td>\n",
              "      <td>0.381594</td>\n",
              "      <td>32.204208</td>\n",
              "    </tr>\n",
              "    <tr>\n",
              "      <th>std</th>\n",
              "      <td>0.486592</td>\n",
              "      <td>0.836071</td>\n",
              "      <td>14.526497</td>\n",
              "      <td>1.102743</td>\n",
              "      <td>0.806057</td>\n",
              "      <td>49.693429</td>\n",
              "    </tr>\n",
              "    <tr>\n",
              "      <th>min</th>\n",
              "      <td>0.000000</td>\n",
              "      <td>1.000000</td>\n",
              "      <td>0.420000</td>\n",
              "      <td>0.000000</td>\n",
              "      <td>0.000000</td>\n",
              "      <td>0.000000</td>\n",
              "    </tr>\n",
              "    <tr>\n",
              "      <th>25%</th>\n",
              "      <td>0.000000</td>\n",
              "      <td>2.000000</td>\n",
              "      <td>20.125000</td>\n",
              "      <td>0.000000</td>\n",
              "      <td>0.000000</td>\n",
              "      <td>7.910400</td>\n",
              "    </tr>\n",
              "    <tr>\n",
              "      <th>50%</th>\n",
              "      <td>0.000000</td>\n",
              "      <td>3.000000</td>\n",
              "      <td>28.000000</td>\n",
              "      <td>0.000000</td>\n",
              "      <td>0.000000</td>\n",
              "      <td>14.454200</td>\n",
              "    </tr>\n",
              "    <tr>\n",
              "      <th>75%</th>\n",
              "      <td>1.000000</td>\n",
              "      <td>3.000000</td>\n",
              "      <td>38.000000</td>\n",
              "      <td>1.000000</td>\n",
              "      <td>0.000000</td>\n",
              "      <td>31.000000</td>\n",
              "    </tr>\n",
              "    <tr>\n",
              "      <th>max</th>\n",
              "      <td>1.000000</td>\n",
              "      <td>3.000000</td>\n",
              "      <td>80.000000</td>\n",
              "      <td>8.000000</td>\n",
              "      <td>6.000000</td>\n",
              "      <td>512.329200</td>\n",
              "    </tr>\n",
              "  </tbody>\n",
              "</table>\n",
              "</div>\n",
              "      <button class=\"colab-df-convert\" onclick=\"convertToInteractive('df-ab37f26b-ca9d-4b58-849b-471dfcf98243')\"\n",
              "              title=\"Convert this dataframe to an interactive table.\"\n",
              "              style=\"display:none;\">\n",
              "        \n",
              "  <svg xmlns=\"http://www.w3.org/2000/svg\" height=\"24px\"viewBox=\"0 0 24 24\"\n",
              "       width=\"24px\">\n",
              "    <path d=\"M0 0h24v24H0V0z\" fill=\"none\"/>\n",
              "    <path d=\"M18.56 5.44l.94 2.06.94-2.06 2.06-.94-2.06-.94-.94-2.06-.94 2.06-2.06.94zm-11 1L8.5 8.5l.94-2.06 2.06-.94-2.06-.94L8.5 2.5l-.94 2.06-2.06.94zm10 10l.94 2.06.94-2.06 2.06-.94-2.06-.94-.94-2.06-.94 2.06-2.06.94z\"/><path d=\"M17.41 7.96l-1.37-1.37c-.4-.4-.92-.59-1.43-.59-.52 0-1.04.2-1.43.59L10.3 9.45l-7.72 7.72c-.78.78-.78 2.05 0 2.83L4 21.41c.39.39.9.59 1.41.59.51 0 1.02-.2 1.41-.59l7.78-7.78 2.81-2.81c.8-.78.8-2.07 0-2.86zM5.41 20L4 18.59l7.72-7.72 1.47 1.35L5.41 20z\"/>\n",
              "  </svg>\n",
              "      </button>\n",
              "      \n",
              "  <style>\n",
              "    .colab-df-container {\n",
              "      display:flex;\n",
              "      flex-wrap:wrap;\n",
              "      gap: 12px;\n",
              "    }\n",
              "\n",
              "    .colab-df-convert {\n",
              "      background-color: #E8F0FE;\n",
              "      border: none;\n",
              "      border-radius: 50%;\n",
              "      cursor: pointer;\n",
              "      display: none;\n",
              "      fill: #1967D2;\n",
              "      height: 32px;\n",
              "      padding: 0 0 0 0;\n",
              "      width: 32px;\n",
              "    }\n",
              "\n",
              "    .colab-df-convert:hover {\n",
              "      background-color: #E2EBFA;\n",
              "      box-shadow: 0px 1px 2px rgba(60, 64, 67, 0.3), 0px 1px 3px 1px rgba(60, 64, 67, 0.15);\n",
              "      fill: #174EA6;\n",
              "    }\n",
              "\n",
              "    [theme=dark] .colab-df-convert {\n",
              "      background-color: #3B4455;\n",
              "      fill: #D2E3FC;\n",
              "    }\n",
              "\n",
              "    [theme=dark] .colab-df-convert:hover {\n",
              "      background-color: #434B5C;\n",
              "      box-shadow: 0px 1px 3px 1px rgba(0, 0, 0, 0.15);\n",
              "      filter: drop-shadow(0px 1px 2px rgba(0, 0, 0, 0.3));\n",
              "      fill: #FFFFFF;\n",
              "    }\n",
              "  </style>\n",
              "\n",
              "      <script>\n",
              "        const buttonEl =\n",
              "          document.querySelector('#df-ab37f26b-ca9d-4b58-849b-471dfcf98243 button.colab-df-convert');\n",
              "        buttonEl.style.display =\n",
              "          google.colab.kernel.accessAllowed ? 'block' : 'none';\n",
              "\n",
              "        async function convertToInteractive(key) {\n",
              "          const element = document.querySelector('#df-ab37f26b-ca9d-4b58-849b-471dfcf98243');\n",
              "          const dataTable =\n",
              "            await google.colab.kernel.invokeFunction('convertToInteractive',\n",
              "                                                     [key], {});\n",
              "          if (!dataTable) return;\n",
              "\n",
              "          const docLinkHtml = 'Like what you see? Visit the ' +\n",
              "            '<a target=\"_blank\" href=https://colab.research.google.com/notebooks/data_table.ipynb>data table notebook</a>'\n",
              "            + ' to learn more about interactive tables.';\n",
              "          element.innerHTML = '';\n",
              "          dataTable['output_type'] = 'display_data';\n",
              "          await google.colab.output.renderOutput(dataTable, element);\n",
              "          const docLink = document.createElement('div');\n",
              "          docLink.innerHTML = docLinkHtml;\n",
              "          element.appendChild(docLink);\n",
              "        }\n",
              "      </script>\n",
              "    </div>\n",
              "  </div>\n",
              "  "
            ],
            "text/plain": [
              "         Survived      Pclass         Age       SibSp       Parch        Fare\n",
              "count  891.000000  891.000000  714.000000  891.000000  891.000000  891.000000\n",
              "mean     0.383838    2.308642   29.699118    0.523008    0.381594   32.204208\n",
              "std      0.486592    0.836071   14.526497    1.102743    0.806057   49.693429\n",
              "min      0.000000    1.000000    0.420000    0.000000    0.000000    0.000000\n",
              "25%      0.000000    2.000000   20.125000    0.000000    0.000000    7.910400\n",
              "50%      0.000000    3.000000   28.000000    0.000000    0.000000   14.454200\n",
              "75%      1.000000    3.000000   38.000000    1.000000    0.000000   31.000000\n",
              "max      1.000000    3.000000   80.000000    8.000000    6.000000  512.329200"
            ]
          },
          "metadata": {},
          "execution_count": 9
        }
      ]
    },
    {
      "cell_type": "markdown",
      "source": [
        "We can see that;\n",
        "\n",
        " -38% out of the training-set survived the Titanic.\n",
        "\n",
        " -passenger ages range from 0.4 to 80.\n",
        "\n"
      ],
      "metadata": {
        "id": "vVV_9_xEc9mI"
      }
    },
    {
      "cell_type": "code",
      "source": [
        "# checking the columns names\n",
        "\n",
        "train.columns"
      ],
      "metadata": {
        "colab": {
          "base_uri": "https://localhost:8080/"
        },
        "id": "9H58l1FHaCwS",
        "outputId": "dd1b43f8-8d87-4e5b-de5b-9ce5f8e2d364"
      },
      "execution_count": 10,
      "outputs": [
        {
          "output_type": "execute_result",
          "data": {
            "text/plain": [
              "Index(['Survived', 'Pclass', 'Sex', 'Age', 'SibSp', 'Parch', 'Fare',\n",
              "       'Embarked'],\n",
              "      dtype='object')"
            ]
          },
          "metadata": {},
          "execution_count": 10
        }
      ]
    },
    {
      "cell_type": "code",
      "source": [
        "train.shape"
      ],
      "metadata": {
        "colab": {
          "base_uri": "https://localhost:8080/"
        },
        "id": "iys7CUVeaCyq",
        "outputId": "65bf5573-d0b0-4e1f-effc-a32557796564"
      },
      "execution_count": 11,
      "outputs": [
        {
          "output_type": "execute_result",
          "data": {
            "text/plain": [
              "(891, 8)"
            ]
          },
          "metadata": {},
          "execution_count": 11
        }
      ]
    },
    {
      "cell_type": "code",
      "source": [
        "# dropping duplicates, if any\n",
        "train = train.drop_duplicates()\n",
        "print(\"New 'train' dataset shape:\", train.shape)\n"
      ],
      "metadata": {
        "colab": {
          "base_uri": "https://localhost:8080/"
        },
        "id": "iBtdR2TmaC1O",
        "outputId": "63b8407d-cdea-4183-c25f-3da89392bc0e"
      },
      "execution_count": 12,
      "outputs": [
        {
          "output_type": "stream",
          "name": "stdout",
          "text": [
            "New 'train' dataset shape: (780, 8)\n"
          ]
        }
      ]
    },
    {
      "cell_type": "code",
      "source": [
        "# checking for null values\n",
        "print(train.isna().sum())\n",
        "print(\"\\n\")\n"
      ],
      "metadata": {
        "colab": {
          "base_uri": "https://localhost:8080/"
        },
        "id": "FrG_3MiyaC4I",
        "outputId": "25be5d51-f74f-4793-b47f-32010a6f45aa"
      },
      "execution_count": 13,
      "outputs": [
        {
          "output_type": "stream",
          "name": "stdout",
          "text": [
            "Survived      0\n",
            "Pclass        0\n",
            "Sex           0\n",
            "Age         104\n",
            "SibSp         0\n",
            "Parch         0\n",
            "Fare          0\n",
            "Embarked      2\n",
            "dtype: int64\n",
            "\n",
            "\n"
          ]
        }
      ]
    },
    {
      "cell_type": "markdown",
      "source": [
        "The 'train' dataset is missing 2 values in its Embarked column."
      ],
      "metadata": {
        "id": "sNt7SuKKo5UL"
      }
    },
    {
      "cell_type": "code",
      "source": [
        "train = train.dropna(subset = ['Embarked'])\n",
        "print(\"Missing values in train's Embarked column:\", train.Embarked.isna().any())\n"
      ],
      "metadata": {
        "colab": {
          "base_uri": "https://localhost:8080/"
        },
        "id": "1E9CP6bLaC6y",
        "outputId": "fdfae005-9712-4c9c-dd3a-64d79b81da4c"
      },
      "execution_count": 14,
      "outputs": [
        {
          "output_type": "stream",
          "name": "stdout",
          "text": [
            "Missing values in train's Embarked column: False\n"
          ]
        }
      ]
    },
    {
      "cell_type": "code",
      "source": [
        "ds = [train]\n",
        "train.name = 'Train'\n",
        "for data in ds:\n",
        "    data.Age.plot(kind = \"box\")\n",
        "    plt.title(\"Box plot of Age in {} dataset\".format(data.name))\n",
        "    plt.show()"
      ],
      "metadata": {
        "colab": {
          "base_uri": "https://localhost:8080/",
          "height": 280
        },
        "id": "VvrxwHBdaC9X",
        "outputId": "85ae4883-c0f9-4b3f-ea87-1c368d31ec2d"
      },
      "execution_count": 15,
      "outputs": [
        {
          "output_type": "display_data",
          "data": {
            "image/png": "[encoded data removed]",
            "text/plain": [
              "<Figure size 432x288 with 1 Axes>"
            ]
          },
          "metadata": {
            "needs_background": "light"
          }
        }
      ]
    },
    {
      "cell_type": "markdown",
      "source": [
        "The dataset does not have many outliers so the missing values will be replaced with  mean.\n",
        "\n"
      ],
      "metadata": {
        "id": "S0kIJoMHpo-U"
      }
    },
    {
      "cell_type": "code",
      "source": [
        "train = train.fillna(train.Age.mean())\n",
        "print(\"Missing values in Train dataset:\")\n",
        "print(train.isna().any())\n"
      ],
      "metadata": {
        "colab": {
          "base_uri": "https://localhost:8080/"
        },
        "id": "NeHXVTQ4aC_2",
        "outputId": "f10e92ac-14df-449e-eea8-dc4b9a97c678"
      },
      "execution_count": 16,
      "outputs": [
        {
          "output_type": "stream",
          "name": "stdout",
          "text": [
            "Missing values in Train dataset:\n",
            "Survived    False\n",
            "Pclass      False\n",
            "Sex         False\n",
            "Age         False\n",
            "SibSp       False\n",
            "Parch       False\n",
            "Fare        False\n",
            "Embarked    False\n",
            "dtype: bool\n"
          ]
        }
      ]
    },
    {
      "cell_type": "markdown",
      "source": [
        "Our dataset now has been cleaned of all missing values.\n",
        "\n"
      ],
      "metadata": {
        "id": "A94T2IsGrlV1"
      }
    },
    {
      "cell_type": "code",
      "source": [
        "train = train.astype({'Age' : 'int'})\n"
      ],
      "metadata": {
        "id": "m5yQhtGuaDCV"
      },
      "execution_count": 17,
      "outputs": []
    },
    {
      "cell_type": "code",
      "source": [
        "# dropping extra duplicates, if any were created\n",
        "train = train.drop_duplicates()\n",
        "print(\"New 'train' dataset shape:\", train.shape)\n"
      ],
      "metadata": {
        "colab": {
          "base_uri": "https://localhost:8080/"
        },
        "id": "Fy_gqZataDGM",
        "outputId": "5abbdacd-c3cd-4407-eb57-e3608eef23f9"
      },
      "execution_count": 18,
      "outputs": [
        {
          "output_type": "stream",
          "name": "stdout",
          "text": [
            "New 'train' dataset shape: (772, 8)\n"
          ]
        }
      ]
    },
    {
      "cell_type": "code",
      "source": [
        "from sklearn.preprocessing import LabelEncoder \n",
        "encoder = LabelEncoder()\n",
        "\n",
        "# columns to encode\n",
        "to_encode = ['Sex', 'Embarked']\n",
        "\n",
        "# dictionary to store each unique variable class\n",
        "class_dict = {}\n",
        "\n",
        "for item in to_encode:\n",
        "    encoder = LabelEncoder().fit(train[item].unique())\n",
        "    classed = encoder.classes_\n",
        "    class_dict[item] = classed\n",
        "    # encoding in 'train' dataset\n",
        "    train[item] = encoder.transform(train[item].values)\n",
        "\n",
        "# to decode, use the following structure\n",
        "class_dict['Sex'][0]"
      ],
      "metadata": {
        "colab": {
          "base_uri": "https://localhost:8080/",
          "height": 34
        },
        "id": "RdnUchkeaDI8",
        "outputId": "d0fc3605-0544-4102-fdb0-43e9a7822d94"
      },
      "execution_count": 19,
      "outputs": [
        {
          "output_type": "execute_result",
          "data": {
            "application/vnd.google.colaboratory.intrinsic+json": {
              "type": "string"
            },
            "text/plain": [
              "'female'"
            ]
          },
          "metadata": {},
          "execution_count": 19
        }
      ]
    },
    {
      "cell_type": "code",
      "source": [
        "# change Survived from float to category\n",
        "train = train.astype({'Survived' : 'category'})\n",
        "train.Survived.dtypes"
      ],
      "metadata": {
        "colab": {
          "base_uri": "https://localhost:8080/"
        },
        "id": "q8bbW0-FspTr",
        "outputId": "f3dbd782-4dc1-4207-999c-ae4bb034cccf"
      },
      "execution_count": 20,
      "outputs": [
        {
          "output_type": "execute_result",
          "data": {
            "text/plain": [
              "CategoricalDtype(categories=[0, 1], ordered=False)"
            ]
          },
          "metadata": {},
          "execution_count": 20
        }
      ]
    },
    {
      "cell_type": "code",
      "source": [
        "# dropping duplicates, if any are present\n",
        "train = train.drop_duplicates()\n",
        "print(\"New dataset shape:\", train.shape)"
      ],
      "metadata": {
        "colab": {
          "base_uri": "https://localhost:8080/"
        },
        "id": "jjn2DZamspWo",
        "outputId": "17918ff8-d41d-4424-f27d-3c2da5b48d7a"
      },
      "execution_count": 21,
      "outputs": [
        {
          "output_type": "stream",
          "name": "stdout",
          "text": [
            "New dataset shape: (772, 8)\n"
          ]
        }
      ]
    },
    {
      "cell_type": "markdown",
      "source": [
        "No new duplicates were created so none were dropped.\n",
        "\n"
      ],
      "metadata": {
        "id": "yk19dPtdu988"
      }
    },
    {
      "cell_type": "code",
      "source": [
        "# saving our cleaned datasets\n",
        "train.to_csv('train_cleaned.csv', index = False)\n",
        "\n",
        "# train = pd.read_csv('train_cleaned.csv')\n"
      ],
      "metadata": {
        "id": "2WB0CKaespQ8"
      },
      "execution_count": 22,
      "outputs": []
    },
    {
      "cell_type": "markdown",
      "source": [
        "##3.Exploratory Data Analysis##\n"
      ],
      "metadata": {
        "id": "4nDdCJJQvqcZ"
      }
    },
    {
      "cell_type": "markdown",
      "source": [
        "###3.1. Univariate Analysis###\n"
      ],
      "metadata": {
        "id": "ag5zfr5Fv8vG"
      }
    },
    {
      "cell_type": "code",
      "source": [
        "train.describe()"
      ],
      "metadata": {
        "colab": {
          "base_uri": "https://localhost:8080/",
          "height": 300
        },
        "id": "Vmn7CmefspaG",
        "outputId": "afdda3bb-1321-4bf4-b717-b18bd040c0e9"
      },
      "execution_count": 23,
      "outputs": [
        {
          "output_type": "execute_result",
          "data": {
            "text/html": [
              "\n",
              "  <div id=\"df-00071886-ed4b-4f9a-a760-97c4c711e0e2\">\n",
              "    <div class=\"colab-df-container\">\n",
              "      <div>\n",
              "<style scoped>\n",
              "    .dataframe tbody tr th:only-of-type {\n",
              "        vertical-align: middle;\n",
              "    }\n",
              "\n",
              "    .dataframe tbody tr th {\n",
              "        vertical-align: top;\n",
              "    }\n",
              "\n",
              "    .dataframe thead th {\n",
              "        text-align: right;\n",
              "    }\n",
              "</style>\n",
              "<table border=\"1\" class=\"dataframe\">\n",
              "  <thead>\n",
              "    <tr style=\"text-align: right;\">\n",
              "      <th></th>\n",
              "      <th>Pclass</th>\n",
              "      <th>Sex</th>\n",
              "      <th>Age</th>\n",
              "      <th>SibSp</th>\n",
              "      <th>Parch</th>\n",
              "      <th>Fare</th>\n",
              "      <th>Embarked</th>\n",
              "    </tr>\n",
              "  </thead>\n",
              "  <tbody>\n",
              "    <tr>\n",
              "      <th>count</th>\n",
              "      <td>772.000000</td>\n",
              "      <td>772.000000</td>\n",
              "      <td>772.000000</td>\n",
              "      <td>772.000000</td>\n",
              "      <td>772.000000</td>\n",
              "      <td>772.000000</td>\n",
              "      <td>772.000000</td>\n",
              "    </tr>\n",
              "    <tr>\n",
              "      <th>mean</th>\n",
              "      <td>2.244819</td>\n",
              "      <td>0.625648</td>\n",
              "      <td>29.641192</td>\n",
              "      <td>0.531088</td>\n",
              "      <td>0.422280</td>\n",
              "      <td>34.914545</td>\n",
              "      <td>1.524611</td>\n",
              "    </tr>\n",
              "    <tr>\n",
              "      <th>std</th>\n",
              "      <td>0.854324</td>\n",
              "      <td>0.484269</td>\n",
              "      <td>13.735863</td>\n",
              "      <td>0.991700</td>\n",
              "      <td>0.841789</td>\n",
              "      <td>52.432816</td>\n",
              "      <td>0.807337</td>\n",
              "    </tr>\n",
              "    <tr>\n",
              "      <th>min</th>\n",
              "      <td>1.000000</td>\n",
              "      <td>0.000000</td>\n",
              "      <td>0.000000</td>\n",
              "      <td>0.000000</td>\n",
              "      <td>0.000000</td>\n",
              "      <td>0.000000</td>\n",
              "      <td>0.000000</td>\n",
              "    </tr>\n",
              "    <tr>\n",
              "      <th>25%</th>\n",
              "      <td>1.000000</td>\n",
              "      <td>0.000000</td>\n",
              "      <td>21.000000</td>\n",
              "      <td>0.000000</td>\n",
              "      <td>0.000000</td>\n",
              "      <td>8.050000</td>\n",
              "      <td>1.000000</td>\n",
              "    </tr>\n",
              "    <tr>\n",
              "      <th>50%</th>\n",
              "      <td>3.000000</td>\n",
              "      <td>1.000000</td>\n",
              "      <td>29.000000</td>\n",
              "      <td>0.000000</td>\n",
              "      <td>0.000000</td>\n",
              "      <td>16.100000</td>\n",
              "      <td>2.000000</td>\n",
              "    </tr>\n",
              "    <tr>\n",
              "      <th>75%</th>\n",
              "      <td>3.000000</td>\n",
              "      <td>1.000000</td>\n",
              "      <td>36.000000</td>\n",
              "      <td>1.000000</td>\n",
              "      <td>1.000000</td>\n",
              "      <td>34.375000</td>\n",
              "      <td>2.000000</td>\n",
              "    </tr>\n",
              "    <tr>\n",
              "      <th>max</th>\n",
              "      <td>3.000000</td>\n",
              "      <td>1.000000</td>\n",
              "      <td>80.000000</td>\n",
              "      <td>8.000000</td>\n",
              "      <td>6.000000</td>\n",
              "      <td>512.329200</td>\n",
              "      <td>2.000000</td>\n",
              "    </tr>\n",
              "  </tbody>\n",
              "</table>\n",
              "</div>\n",
              "      <button class=\"colab-df-convert\" onclick=\"convertToInteractive('df-00071886-ed4b-4f9a-a760-97c4c711e0e2')\"\n",
              "              title=\"Convert this dataframe to an interactive table.\"\n",
              "              style=\"display:none;\">\n",
              "        \n",
              "  <svg xmlns=\"http://www.w3.org/2000/svg\" height=\"24px\"viewBox=\"0 0 24 24\"\n",
              "       width=\"24px\">\n",
              "    <path d=\"M0 0h24v24H0V0z\" fill=\"none\"/>\n",
              "    <path d=\"M18.56 5.44l.94 2.06.94-2.06 2.06-.94-2.06-.94-.94-2.06-.94 2.06-2.06.94zm-11 1L8.5 8.5l.94-2.06 2.06-.94-2.06-.94L8.5 2.5l-.94 2.06-2.06.94zm10 10l.94 2.06.94-2.06 2.06-.94-2.06-.94-.94-2.06-.94 2.06-2.06.94z\"/><path d=\"M17.41 7.96l-1.37-1.37c-.4-.4-.92-.59-1.43-.59-.52 0-1.04.2-1.43.59L10.3 9.45l-7.72 7.72c-.78.78-.78 2.05 0 2.83L4 21.41c.39.39.9.59 1.41.59.51 0 1.02-.2 1.41-.59l7.78-7.78 2.81-2.81c.8-.78.8-2.07 0-2.86zM5.41 20L4 18.59l7.72-7.72 1.47 1.35L5.41 20z\"/>\n",
              "  </svg>\n",
              "      </button>\n",
              "      \n",
              "  <style>\n",
              "    .colab-df-container {\n",
              "      display:flex;\n",
              "      flex-wrap:wrap;\n",
              "      gap: 12px;\n",
              "    }\n",
              "\n",
              "    .colab-df-convert {\n",
              "      background-color: #E8F0FE;\n",
              "      border: none;\n",
              "      border-radius: 50%;\n",
              "      cursor: pointer;\n",
              "      display: none;\n",
              "      fill: #1967D2;\n",
              "      height: 32px;\n",
              "      padding: 0 0 0 0;\n",
              "      width: 32px;\n",
              "    }\n",
              "\n",
              "    .colab-df-convert:hover {\n",
              "      background-color: #E2EBFA;\n",
              "      box-shadow: 0px 1px 2px rgba(60, 64, 67, 0.3), 0px 1px 3px 1px rgba(60, 64, 67, 0.15);\n",
              "      fill: #174EA6;\n",
              "    }\n",
              "\n",
              "    [theme=dark] .colab-df-convert {\n",
              "      background-color: #3B4455;\n",
              "      fill: #D2E3FC;\n",
              "    }\n",
              "\n",
              "    [theme=dark] .colab-df-convert:hover {\n",
              "      background-color: #434B5C;\n",
              "      box-shadow: 0px 1px 3px 1px rgba(0, 0, 0, 0.15);\n",
              "      filter: drop-shadow(0px 1px 2px rgba(0, 0, 0, 0.3));\n",
              "      fill: #FFFFFF;\n",
              "    }\n",
              "  </style>\n",
              "\n",
              "      <script>\n",
              "        const buttonEl =\n",
              "          document.querySelector('#df-00071886-ed4b-4f9a-a760-97c4c711e0e2 button.colab-df-convert');\n",
              "        buttonEl.style.display =\n",
              "          google.colab.kernel.accessAllowed ? 'block' : 'none';\n",
              "\n",
              "        async function convertToInteractive(key) {\n",
              "          const element = document.querySelector('#df-00071886-ed4b-4f9a-a760-97c4c711e0e2');\n",
              "          const dataTable =\n",
              "            await google.colab.kernel.invokeFunction('convertToInteractive',\n",
              "                                                     [key], {});\n",
              "          if (!dataTable) return;\n",
              "\n",
              "          const docLinkHtml = 'Like what you see? Visit the ' +\n",
              "            '<a target=\"_blank\" href=https://colab.research.google.com/notebooks/data_table.ipynb>data table notebook</a>'\n",
              "            + ' to learn more about interactive tables.';\n",
              "          element.innerHTML = '';\n",
              "          dataTable['output_type'] = 'display_data';\n",
              "          await google.colab.output.renderOutput(dataTable, element);\n",
              "          const docLink = document.createElement('div');\n",
              "          docLink.innerHTML = docLinkHtml;\n",
              "          element.appendChild(docLink);\n",
              "        }\n",
              "      </script>\n",
              "    </div>\n",
              "  </div>\n",
              "  "
            ],
            "text/plain": [
              "           Pclass         Sex         Age  ...       Parch        Fare    Embarked\n",
              "count  772.000000  772.000000  772.000000  ...  772.000000  772.000000  772.000000\n",
              "mean     2.244819    0.625648   29.641192  ...    0.422280   34.914545    1.524611\n",
              "std      0.854324    0.484269   13.735863  ...    0.841789   52.432816    0.807337\n",
              "min      1.000000    0.000000    0.000000  ...    0.000000    0.000000    0.000000\n",
              "25%      1.000000    0.000000   21.000000  ...    0.000000    8.050000    1.000000\n",
              "50%      3.000000    1.000000   29.000000  ...    0.000000   16.100000    2.000000\n",
              "75%      3.000000    1.000000   36.000000  ...    1.000000   34.375000    2.000000\n",
              "max      3.000000    1.000000   80.000000  ...    6.000000  512.329200    2.000000\n",
              "\n",
              "[8 rows x 7 columns]"
            ]
          },
          "metadata": {},
          "execution_count": 23
        }
      ]
    },
    {
      "cell_type": "code",
      "source": [
        "train.hist(figsize = [16, 14])\n"
      ],
      "metadata": {
        "colab": {
          "base_uri": "https://localhost:8080/",
          "height": 998
        },
        "id": "ZrGVrzfCwXmW",
        "outputId": "ed656ade-85e6-46ca-ee18-60ce743045a2"
      },
      "execution_count": 26,
      "outputs": [
        {
          "output_type": "execute_result",
          "data": {
            "text/plain": [
              "array([[<matplotlib.axes._subplots.AxesSubplot object at 0x7f17385eec50>,\n",
              "        <matplotlib.axes._subplots.AxesSubplot object at 0x7f17385c7450>,\n",
              "        <matplotlib.axes._subplots.AxesSubplot object at 0x7f1738578a50>],\n",
              "       [<matplotlib.axes._subplots.AxesSubplot object at 0x7f1738526b90>,\n",
              "        <matplotlib.axes._subplots.AxesSubplot object at 0x7f17384f4610>,\n",
              "        <matplotlib.axes._subplots.AxesSubplot object at 0x7f17384a9c10>],\n",
              "       [<matplotlib.axes._subplots.AxesSubplot object at 0x7f173846e2d0>,\n",
              "        <matplotlib.axes._subplots.AxesSubplot object at 0x7f1738424810>,\n",
              "        <matplotlib.axes._subplots.AxesSubplot object at 0x7f1738424850>]],\n",
              "      dtype=object)"
            ]
          },
          "metadata": {},
          "execution_count": 26
        },
        {
          "output_type": "display_data",
          "data": {
            "image/png": "[encoded data removed]",
            "text/plain": [
              "<Figure size 1152x1008 with 9 Axes>"
            ]
          },
          "metadata": {
            "needs_background": "light"
          }
        }
      ]
    },
    {
      "cell_type": "markdown",
      "source": [
        "From the diagram;\n",
        "\n",
        "*the age range is from 0 to 80 with most of the passengers being between 22-32 years of age\n",
        "\n",
        "*most of them embarked at location S (code 2)\n",
        "\n",
        "*most of them paid fare of between 0 to around 50\n",
        "\n",
        "*0 is the most common value for the Parch variable followed by 1\n",
        "\n",
        "*most of the passengers were in 3rd class\n",
        "\n",
        "*there were more men than women\n",
        "\n",
        "*the most common value for the SibSp variable is 0 followed by 1"
      ],
      "metadata": {
        "id": "oumts1tqxptR"
      }
    },
    {
      "cell_type": "code",
      "source": [
        "# viewing the countplot of those who survived vs those who didn't\n",
        "train.Survived.value_counts().plot(kind = 'bar', rot = 0, figsize = [8, 6])"
      ],
      "metadata": {
        "colab": {
          "base_uri": "https://localhost:8080/",
          "height": 391
        },
        "id": "gHKqGx_jwXri",
        "outputId": "6c4493cb-8001-450f-f558-aae341d34069"
      },
      "execution_count": 27,
      "outputs": [
        {
          "output_type": "execute_result",
          "data": {
            "text/plain": [
              "<matplotlib.axes._subplots.AxesSubplot at 0x7f17383b62d0>"
            ]
          },
          "metadata": {},
          "execution_count": 27
        },
        {
          "output_type": "display_data",
          "data": {
            "image/png": "[encoded data removed]",
            "text/plain": [
              "<Figure size 576x432 with 1 Axes>"
            ]
          },
          "metadata": {
            "needs_background": "light"
          }
        }
      ]
    },
    {
      "cell_type": "markdown",
      "source": [
        "Most passengers did not survive.\n"
      ],
      "metadata": {
        "id": "GFrWm5FzyLEW"
      }
    },
    {
      "cell_type": "code",
      "source": [
        "# gender distribution\n",
        "train.Sex.value_counts()"
      ],
      "metadata": {
        "colab": {
          "base_uri": "https://localhost:8080/"
        },
        "id": "WHxUtgaxwOt9",
        "outputId": "9c6c0d09-a7f8-4f56-a818-898ce40c1d38"
      },
      "execution_count": 28,
      "outputs": [
        {
          "output_type": "execute_result",
          "data": {
            "text/plain": [
              "1    483\n",
              "0    289\n",
              "Name: Sex, dtype: int64"
            ]
          },
          "metadata": {},
          "execution_count": 28
        }
      ]
    },
    {
      "cell_type": "markdown",
      "source": [
        "716 of the passengers were males while 433 were females.\n",
        "\n"
      ],
      "metadata": {
        "id": "R1t71EJwy1jr"
      }
    },
    {
      "cell_type": "code",
      "source": [
        "# distribution of passengers across classes\n",
        "train.Pclass.value_counts()"
      ],
      "metadata": {
        "colab": {
          "base_uri": "https://localhost:8080/"
        },
        "id": "dDdfhJmfwOzZ",
        "outputId": "29f72644-669f-4155-f54b-dd89ef1751f5"
      },
      "execution_count": 29,
      "outputs": [
        {
          "output_type": "execute_result",
          "data": {
            "text/plain": [
              "3    399\n",
              "1    210\n",
              "2    163\n",
              "Name: Pclass, dtype: int64"
            ]
          },
          "metadata": {},
          "execution_count": 29
        }
      ]
    },
    {
      "cell_type": "markdown",
      "source": [
        "Majority of the passengers were in 3rd class (399) followed by those in 1st class (210) followed by 2nd class (163).\n",
        "\n"
      ],
      "metadata": {
        "id": "yIyfboGGy887"
      }
    },
    {
      "cell_type": "code",
      "source": [
        "# distribution across point of embarkment\n",
        "train.Embarked.value_counts()"
      ],
      "metadata": {
        "colab": {
          "base_uri": "https://localhost:8080/"
        },
        "id": "e7HcGnBIwPHZ",
        "outputId": "b9b622b8-ab46-41d8-d93f-c96cfd09fe05"
      },
      "execution_count": 30,
      "outputs": [
        {
          "output_type": "execute_result",
          "data": {
            "text/plain": [
              "2    560\n",
              "0    155\n",
              "1     57\n",
              "Name: Embarked, dtype: int64"
            ]
          },
          "metadata": {},
          "execution_count": 30
        }
      ]
    },
    {
      "cell_type": "code",
      "source": [
        "print(\"2:\", class_dict['Embarked'][2])\n",
        "print(\"0:\", class_dict['Embarked'][0])\n",
        "print(\"1:\", class_dict['Embarked'][1])"
      ],
      "metadata": {
        "colab": {
          "base_uri": "https://localhost:8080/"
        },
        "id": "R5n3ItqizHq9",
        "outputId": "cbe172fa-458c-4f78-8ecf-c8e6b60d20aa"
      },
      "execution_count": 31,
      "outputs": [
        {
          "output_type": "stream",
          "name": "stdout",
          "text": [
            "2: S\n",
            "0: C\n",
            "1: Q\n"
          ]
        }
      ]
    },
    {
      "cell_type": "code",
      "source": [
        "# distribution of age\n",
        "fig, ax = plt.subplots(figsize = (10, 8))\n",
        "sns.distplot(train.Age, ax = ax)"
      ],
      "metadata": {
        "colab": {
          "base_uri": "https://localhost:8080/",
          "height": 569
        },
        "id": "cn_qz0AezIAr",
        "outputId": "4ff92a39-9d7c-44b7-8e28-4d301d4fcdaf"
      },
      "execution_count": 34,
      "outputs": [
        {
          "output_type": "stream",
          "name": "stderr",
          "text": [
            "/usr/local/lib/python3.7/dist-packages/seaborn/distributions.py:2619: FutureWarning: `distplot` is a deprecated function and will be removed in a future version. Please adapt your code to use either `displot` (a figure-level function with similar flexibility) or `histplot` (an axes-level function for histograms).\n",
            "  warnings.warn(msg, FutureWarning)\n"
          ]
        },
        {
          "output_type": "execute_result",
          "data": {
            "text/plain": [
              "<matplotlib.axes._subplots.AxesSubplot at 0x7f1738159990>"
            ]
          },
          "metadata": {},
          "execution_count": 34
        },
        {
          "output_type": "display_data",
          "data": {
            "image/png": "[encoded data removed]",
            "text/plain": [
              "<Figure size 720x576 with 1 Axes>"
            ]
          },
          "metadata": {
            "needs_background": "light"
          }
        }
      ]
    },
    {
      "cell_type": "markdown",
      "source": [
        "The distribution appears to be normal and leptokurtic.\n",
        "\n"
      ],
      "metadata": {
        "id": "MyE0Lvjz1x5_"
      }
    },
    {
      "cell_type": "code",
      "source": [
        "# fare distribution\n",
        "fig, ax = plt.subplots(figsize = (10, 8))\n",
        "sns.distplot(train.Fare, ax = ax)\n"
      ],
      "metadata": {
        "colab": {
          "base_uri": "https://localhost:8080/",
          "height": 569
        },
        "id": "A1nZcGonzIEO",
        "outputId": "18325a04-e727-4157-cc08-9c0896c21a5f"
      },
      "execution_count": 35,
      "outputs": [
        {
          "output_type": "stream",
          "name": "stderr",
          "text": [
            "/usr/local/lib/python3.7/dist-packages/seaborn/distributions.py:2619: FutureWarning: `distplot` is a deprecated function and will be removed in a future version. Please adapt your code to use either `displot` (a figure-level function with similar flexibility) or `histplot` (an axes-level function for histograms).\n",
            "  warnings.warn(msg, FutureWarning)\n"
          ]
        },
        {
          "output_type": "execute_result",
          "data": {
            "text/plain": [
              "<matplotlib.axes._subplots.AxesSubplot at 0x7f17380d94d0>"
            ]
          },
          "metadata": {},
          "execution_count": 35
        },
        {
          "output_type": "display_data",
          "data": {
            "image/png": "[encoded data removed]",
            "text/plain": [
              "<Figure size 720x576 with 1 Axes>"
            ]
          },
          "metadata": {
            "needs_background": "light"
          }
        }
      ]
    },
    {
      "cell_type": "markdown",
      "source": [
        "The distribution for the Fares is positively skewed \n",
        "\n"
      ],
      "metadata": {
        "id": "wyy-x6Cb18Rc"
      }
    },
    {
      "cell_type": "markdown",
      "source": [
        "###3.2. Bivariate Analysis###\n"
      ],
      "metadata": {
        "id": "7SwsULL13GY2"
      }
    },
    {
      "cell_type": "code",
      "source": [
        "# survival status by sex\n",
        "print(train.groupby('Survived').Sex.value_counts())\n",
        "pd.crosstab(train.Sex, train.Survived).plot(kind = 'bar', rot = 0, figsize = [10, 8])"
      ],
      "metadata": {
        "colab": {
          "base_uri": "https://localhost:8080/",
          "height": 618
        },
        "id": "_5WJ9CzpsqRI",
        "outputId": "3c57285f-7f0d-40a2-be45-de57ab5743cf"
      },
      "execution_count": 36,
      "outputs": [
        {
          "output_type": "stream",
          "name": "stdout",
          "text": [
            "Survived  Sex\n",
            "0         1      378\n",
            "          0       76\n",
            "1         0      213\n",
            "          1      105\n",
            "Name: Sex, dtype: int64\n"
          ]
        },
        {
          "output_type": "execute_result",
          "data": {
            "text/plain": [
              "<matplotlib.axes._subplots.AxesSubplot at 0x7f1735f78b10>"
            ]
          },
          "metadata": {},
          "execution_count": 36
        },
        {
          "output_type": "display_data",
          "data": {
            "image/png": "[encoded data removed]",
            "text/plain": [
              "<Figure size 720x576 with 1 Axes>"
            ]
          },
          "metadata": {
            "needs_background": "light"
          }
        }
      ]
    },
    {
      "cell_type": "markdown",
      "source": [
        "Of those who survived, majority are females (213) compared to males (105).\n",
        "Of those who didn't survive, majority are males (378) compared to males (76).\n",
        "\n"
      ],
      "metadata": {
        "id": "4vsQ_ogP3lEJ"
      }
    },
    {
      "cell_type": "code",
      "source": [
        "# survival status by class\n",
        "print(train.groupby('Survived').Pclass.value_counts())\n",
        "\n",
        "fig, ax = plt.subplots(figsize = (10, 8))\n",
        "sns.countplot('Pclass', hue = 'Survived', data = train, ax = ax)"
      ],
      "metadata": {
        "colab": {
          "base_uri": "https://localhost:8080/",
          "height": 707
        },
        "id": "8pJ2lfV31-Bn",
        "outputId": "e195249d-f7c8-4549-9e5a-29de7bc73d52"
      },
      "execution_count": 37,
      "outputs": [
        {
          "output_type": "stream",
          "name": "stdout",
          "text": [
            "Survived  Pclass\n",
            "0         3         296\n",
            "          2          81\n",
            "          1          77\n",
            "1         1         133\n",
            "          3         103\n",
            "          2          82\n",
            "Name: Pclass, dtype: int64\n"
          ]
        },
        {
          "output_type": "stream",
          "name": "stderr",
          "text": [
            "/usr/local/lib/python3.7/dist-packages/seaborn/_decorators.py:43: FutureWarning: Pass the following variable as a keyword arg: x. From version 0.12, the only valid positional argument will be `data`, and passing other arguments without an explicit keyword will result in an error or misinterpretation.\n",
            "  FutureWarning\n"
          ]
        },
        {
          "output_type": "execute_result",
          "data": {
            "text/plain": [
              "<matplotlib.axes._subplots.AxesSubplot at 0x7f1735ee2690>"
            ]
          },
          "metadata": {},
          "execution_count": 37
        },
        {
          "output_type": "display_data",
          "data": {
            "image/png": "[encoded data removed]",
            "text/plain": [
              "<Figure size 720x576 with 1 Axes>"
            ]
          },
          "metadata": {
            "needs_background": "light"
          }
        }
      ]
    },
    {
      "cell_type": "markdown",
      "source": [
        "**Survived**\n",
        "\n",
        " 133 were in 1st class, 103 were in 3rd class and 82 were in 2nd class.\n",
        "\n",
        "**Didn't survive**\n",
        "\n",
        " 296 were in 3rd class, 81 were in 2nd class and 77 were in 1st class.\n"
      ],
      "metadata": {
        "id": "RsYJiC2Q317t"
      }
    },
    {
      "cell_type": "code",
      "source": [
        "# survival status by siblings/spouses\n",
        "print(train.groupby('Survived').SibSp.value_counts())\n",
        "\n",
        "fig, ax = plt.subplots(figsize = (10, 8))\n",
        "sns.countplot('SibSp', hue = 'Survived', data = train, ax = ax)"
      ],
      "metadata": {
        "colab": {
          "base_uri": "https://localhost:8080/",
          "height": 812
        },
        "id": "31EJBOb-1-Ga",
        "outputId": "a5966e12-e71f-4127-c557-feb64d6d01fc"
      },
      "execution_count": 39,
      "outputs": [
        {
          "output_type": "stream",
          "name": "stdout",
          "text": [
            "Survived  SibSp\n",
            "0         0        313\n",
            "          1         94\n",
            "          2         15\n",
            "          4         15\n",
            "          3         10\n",
            "          5          5\n",
            "          8          2\n",
            "1         0        192\n",
            "          1        107\n",
            "          2         12\n",
            "          3          4\n",
            "          4          3\n",
            "Name: SibSp, dtype: int64\n"
          ]
        },
        {
          "output_type": "stream",
          "name": "stderr",
          "text": [
            "/usr/local/lib/python3.7/dist-packages/seaborn/_decorators.py:43: FutureWarning: Pass the following variable as a keyword arg: x. From version 0.12, the only valid positional argument will be `data`, and passing other arguments without an explicit keyword will result in an error or misinterpretation.\n",
            "  FutureWarning\n"
          ]
        },
        {
          "output_type": "execute_result",
          "data": {
            "text/plain": [
              "<matplotlib.axes._subplots.AxesSubplot at 0x7f1735ef01d0>"
            ]
          },
          "metadata": {},
          "execution_count": 39
        },
        {
          "output_type": "display_data",
          "data": {
            "image/png": "[encoded data removed]",
            "text/plain": [
              "<Figure size 720x576 with 1 Axes>"
            ]
          },
          "metadata": {
            "needs_background": "light"
          }
        }
      ]
    },
    {
      "cell_type": "markdown",
      "source": [
        "\n",
        "**Didn't survive***\n",
        "\n",
        "*313 had neither siblings nor spouses\n",
        "\n",
        "*94 had 1 sibling or spouse  \n",
        "\n",
        "*15 had 2 siblings or spouses\n",
        "\n",
        "*10 had 3 siblings or spouses \n",
        "\n",
        "*15 had 4 siblings or spouses\n",
        "\n",
        "*5 had 5 siblings or spouses \n",
        "\n",
        "*2 had 8 siblings or spouses \n",
        "\n",
        "**Survived**\n",
        "\n",
        "*192 had neither siblings nor spouses \n",
        "\n",
        "*107 had 1 sibling or spouse\n",
        "\n",
        "*12 had 2 siblings or spouses \n",
        "\n",
        "*4 had 3 siblings or spouses \n",
        "\n",
        "*3 had 4 siblings or spouses \n",
        "\n"
      ],
      "metadata": {
        "id": "UfPNLFDj6YF3"
      }
    },
    {
      "cell_type": "code",
      "source": [
        "# survival by point of embarkment\n",
        "print(train.groupby('Survived').Embarked.value_counts())\n",
        "pd.crosstab(train.Embarked, train.Survived).plot(kind = 'bar', rot = 0, figsize = [10, 8])"
      ],
      "metadata": {
        "colab": {
          "base_uri": "https://localhost:8080/",
          "height": 652
        },
        "id": "Idm2ISM61-I0",
        "outputId": "68f86f84-1e0d-4eba-c9e2-b8592c2c9607"
      },
      "execution_count": 40,
      "outputs": [
        {
          "output_type": "stream",
          "name": "stdout",
          "text": [
            "Survived  Embarked\n",
            "0         2           351\n",
            "          0            65\n",
            "          1            38\n",
            "1         2           209\n",
            "          0            90\n",
            "          1            19\n",
            "Name: Embarked, dtype: int64\n"
          ]
        },
        {
          "output_type": "execute_result",
          "data": {
            "text/plain": [
              "<matplotlib.axes._subplots.AxesSubplot at 0x7f1735d3ba50>"
            ]
          },
          "metadata": {},
          "execution_count": 40
        },
        {
          "output_type": "display_data",
          "data": {
            "image/png": "[encoded data removed]",
            "text/plain": [
              "<Figure size 720x576 with 1 Axes>"
            ]
          },
          "metadata": {
            "needs_background": "light"
          }
        }
      ]
    },
    {
      "cell_type": "markdown",
      "source": [
        "**Survived**\n",
        "\n",
        "351 embarked at point S, 65 embarked at point C, and 38 embarked at point Q\n",
        "\n",
        "**Didn't Survive**\n",
        "\n",
        "209 embarked at point S, 90 embarked at point C, and 19 embarked at point Q.\n",
        "\n"
      ],
      "metadata": {
        "id": "7JjsxDbC68QP"
      }
    },
    {
      "cell_type": "code",
      "source": [
        "# class per gender\n",
        "fig, ax = plt.subplots(figsize = (10, 8))\n",
        "sns.countplot('Pclass', hue = 'Sex', data = train, ax = ax)"
      ],
      "metadata": {
        "colab": {
          "base_uri": "https://localhost:8080/",
          "height": 569
        },
        "id": "0cnT9ctm1-MH",
        "outputId": "ad37e9b3-dd1f-444d-e604-df7040cc30ff"
      },
      "execution_count": 41,
      "outputs": [
        {
          "output_type": "stream",
          "name": "stderr",
          "text": [
            "/usr/local/lib/python3.7/dist-packages/seaborn/_decorators.py:43: FutureWarning: Pass the following variable as a keyword arg: x. From version 0.12, the only valid positional argument will be `data`, and passing other arguments without an explicit keyword will result in an error or misinterpretation.\n",
            "  FutureWarning\n"
          ]
        },
        {
          "output_type": "execute_result",
          "data": {
            "text/plain": [
              "<matplotlib.axes._subplots.AxesSubplot at 0x7f1735c5e710>"
            ]
          },
          "metadata": {},
          "execution_count": 41
        },
        {
          "output_type": "display_data",
          "data": {
            "image/png": "[encoded data removed]",
            "text/plain": [
              "<Figure size 720x576 with 1 Axes>"
            ]
          },
          "metadata": {
            "needs_background": "light"
          }
        }
      ]
    },
    {
      "cell_type": "markdown",
      "source": [
        "There were more males than females in all classes\n",
        "\n"
      ],
      "metadata": {
        "id": "wgDWQvIc7S6p"
      }
    },
    {
      "cell_type": "code",
      "source": [
        "# class per point of embarkment\n",
        "fig, ax = plt.subplots(figsize = (10, 8))\n",
        "sns.countplot('Pclass', hue = 'Embarked', data = train, ax = ax)"
      ],
      "metadata": {
        "colab": {
          "base_uri": "https://localhost:8080/",
          "height": 569
        },
        "id": "fwg8K_A_6-72",
        "outputId": "e4017b57-bc5b-44b2-e24d-e687efd4bf2e"
      },
      "execution_count": 42,
      "outputs": [
        {
          "output_type": "stream",
          "name": "stderr",
          "text": [
            "/usr/local/lib/python3.7/dist-packages/seaborn/_decorators.py:43: FutureWarning: Pass the following variable as a keyword arg: x. From version 0.12, the only valid positional argument will be `data`, and passing other arguments without an explicit keyword will result in an error or misinterpretation.\n",
            "  FutureWarning\n"
          ]
        },
        {
          "output_type": "execute_result",
          "data": {
            "text/plain": [
              "<matplotlib.axes._subplots.AxesSubplot at 0x7f173820df90>"
            ]
          },
          "metadata": {},
          "execution_count": 42
        },
        {
          "output_type": "display_data",
          "data": {
            "image/png": "[encoded data removed]",
            "text/plain": [
              "<Figure size 720x576 with 1 Axes>"
            ]
          },
          "metadata": {
            "needs_background": "light"
          }
        }
      ]
    },
    {
      "cell_type": "code",
      "source": [
        "# splitting age into categories to make it easier to analyze\n",
        "conditions = [\n",
        "    ((train.Age >= 0) & (train.Age <= 10)),\n",
        "    ((train.Age >= 11) & (train.Age <= 20)),\n",
        "    ((train.Age >= 21) & (train.Age <= 30)),\n",
        "    ((train.Age >= 31) & (train.Age <= 40)),\n",
        "    ((train.Age >= 41) & (train.Age <= 50)),\n",
        "    ((train.Age >= 51) & (train.Age <= 60)),\n",
        "    ((train.Age >= 61) & (train.Age <= 70)),\n",
        "    ((train.Age >= 71) & (train.Age <= 80))\n",
        "]\n",
        "choices = ['1', '2', '3', '4', '5', '6', '7', '8']\n",
        "\n",
        "train['Age_range'] = np.select(conditions, choices)"
      ],
      "metadata": {
        "id": "xImISOJN6--1"
      },
      "execution_count": 43,
      "outputs": []
    },
    {
      "cell_type": "code",
      "source": [
        "# plotting age ranges in a pie chart\n",
        "train.Age_range.value_counts().plot(kind = 'pie', autopct = '%0.1f%%', figsize = [12, 10], \n",
        "                                      subplots = True)"
      ],
      "metadata": {
        "colab": {
          "base_uri": "https://localhost:8080/",
          "height": 609
        },
        "id": "_977BfGx7n1M",
        "outputId": "cf3a66f5-858e-4ecd-8b41-55b16fb5c639"
      },
      "execution_count": 44,
      "outputs": [
        {
          "output_type": "execute_result",
          "data": {
            "text/plain": [
              "array([<matplotlib.axes._subplots.AxesSubplot object at 0x7f17381df450>],\n",
              "      dtype=object)"
            ]
          },
          "metadata": {},
          "execution_count": 44
        },
        {
          "output_type": "display_data",
          "data": {
            "image/png": "[encoded data removed]",
            "text/plain": [
              "<Figure size 864x720 with 1 Axes>"
            ]
          },
          "metadata": {}
        }
      ]
    },
    {
      "cell_type": "markdown",
      "source": [
        "age range 3 (20-30 year olds) make up the majority of the passengers while 70-80 year olds are the minority.\n",
        "\n"
      ],
      "metadata": {
        "id": "6REx0jqP8LBo"
      }
    },
    {
      "cell_type": "code",
      "source": [
        "# age distribution per gender\n",
        "fig, ax = plt.subplots(figsize = (10, 8))\n",
        "sns.countplot('Age_range', hue = 'Sex', data = train, ax = ax)"
      ],
      "metadata": {
        "colab": {
          "base_uri": "https://localhost:8080/",
          "height": 569
        },
        "id": "A6ko-p8T7n4U",
        "outputId": "d3ac4c17-7bfc-483c-fd87-ee6d9c41267b"
      },
      "execution_count": 45,
      "outputs": [
        {
          "output_type": "stream",
          "name": "stderr",
          "text": [
            "/usr/local/lib/python3.7/dist-packages/seaborn/_decorators.py:43: FutureWarning: Pass the following variable as a keyword arg: x. From version 0.12, the only valid positional argument will be `data`, and passing other arguments without an explicit keyword will result in an error or misinterpretation.\n",
            "  FutureWarning\n"
          ]
        },
        {
          "output_type": "execute_result",
          "data": {
            "text/plain": [
              "<matplotlib.axes._subplots.AxesSubplot at 0x7f1735b91990>"
            ]
          },
          "metadata": {},
          "execution_count": 45
        },
        {
          "output_type": "display_data",
          "data": {
            "image/png": "[encoded data removed]",
            "text/plain": [
              "<Figure size 720x576 with 1 Axes>"
            ]
          },
          "metadata": {
            "needs_background": "light"
          }
        }
      ]
    },
    {
      "cell_type": "markdown",
      "source": [
        "There are more males than females in all the age ranges\n",
        "\n"
      ],
      "metadata": {
        "id": "5qyi6FQJ8ep3"
      }
    },
    {
      "cell_type": "code",
      "source": [
        "# age distribution per class\n",
        "fig, ax = plt.subplots(figsize = (10, 8))\n",
        "sns.countplot('Age_range', hue = 'Pclass', data = train, ax = ax)"
      ],
      "metadata": {
        "colab": {
          "base_uri": "https://localhost:8080/",
          "height": 569
        },
        "id": "0v5pWKob7n7f",
        "outputId": "677e9f6e-5d84-4557-cf53-cbd03be4ae5d"
      },
      "execution_count": 46,
      "outputs": [
        {
          "output_type": "stream",
          "name": "stderr",
          "text": [
            "/usr/local/lib/python3.7/dist-packages/seaborn/_decorators.py:43: FutureWarning: Pass the following variable as a keyword arg: x. From version 0.12, the only valid positional argument will be `data`, and passing other arguments without an explicit keyword will result in an error or misinterpretation.\n",
            "  FutureWarning\n"
          ]
        },
        {
          "output_type": "execute_result",
          "data": {
            "text/plain": [
              "<matplotlib.axes._subplots.AxesSubplot at 0x7f1735b56190>"
            ]
          },
          "metadata": {},
          "execution_count": 46
        },
        {
          "output_type": "display_data",
          "data": {
            "image/png": "[encoded data removed]",
            "text/plain": [
              "<Figure size 720x576 with 1 Axes>"
            ]
          },
          "metadata": {
            "needs_background": "light"
          }
        }
      ]
    },
    {
      "cell_type": "markdown",
      "source": [
        "Most are in 3rd class,however, 40 to 80 years of age, we see that there are more  passengers in 1st class compared to those in 3rd class.\n",
        "\n"
      ],
      "metadata": {
        "id": "S3jaKBrP8neW"
      }
    },
    {
      "cell_type": "code",
      "source": [
        "# survival status per age\n",
        "fig, ax = plt.subplots(figsize = (10, 8))\n",
        "sns.countplot('Age_range', hue = 'Survived', data = train, ax = ax)"
      ],
      "metadata": {
        "colab": {
          "base_uri": "https://localhost:8080/",
          "height": 572
        },
        "id": "luf_rquIsqUh",
        "outputId": "75452b43-c103-4238-dcbc-dbd81c3be625"
      },
      "execution_count": 48,
      "outputs": [
        {
          "output_type": "stream",
          "name": "stderr",
          "text": [
            "/usr/local/lib/python3.7/dist-packages/seaborn/_decorators.py:43: FutureWarning: Pass the following variable as a keyword arg: x. From version 0.12, the only valid positional argument will be `data`, and passing other arguments without an explicit keyword will result in an error or misinterpretation.\n",
            "  FutureWarning\n"
          ]
        },
        {
          "output_type": "execute_result",
          "data": {
            "text/plain": [
              "<matplotlib.axes._subplots.AxesSubplot at 0x7f17359cb4d0>"
            ]
          },
          "metadata": {},
          "execution_count": 48
        },
        {
          "output_type": "display_data",
          "data": {
            "image/png": "[encoded data removed]",
            "text/plain": [
              "<Figure size 720x576 with 1 Axes>"
            ]
          },
          "metadata": {
            "needs_background": "light"
          }
        }
      ]
    },
    {
      "cell_type": "code",
      "source": [
        "# to create categories for our Fare column, let's look at its distribution again\n",
        "print(\"Max fare:\", round(train.Fare.max(), 2))\n",
        "train.Fare.plot(kind = 'hist', figsize = [8, 6])"
      ],
      "metadata": {
        "colab": {
          "base_uri": "https://localhost:8080/",
          "height": 409
        },
        "id": "Zdc2B0Iw8wjn",
        "outputId": "b0a56ad4-8539-479a-823d-518044741da2"
      },
      "execution_count": 49,
      "outputs": [
        {
          "output_type": "stream",
          "name": "stdout",
          "text": [
            "Max fare: 512.33\n"
          ]
        },
        {
          "output_type": "execute_result",
          "data": {
            "text/plain": [
              "<matplotlib.axes._subplots.AxesSubplot at 0x7f173588e4d0>"
            ]
          },
          "metadata": {},
          "execution_count": 49
        },
        {
          "output_type": "display_data",
          "data": {
            "image/png": "[encoded data removed]",
            "text/plain": [
              "<Figure size 576x432 with 1 Axes>"
            ]
          },
          "metadata": {
            "needs_background": "light"
          }
        }
      ]
    },
    {
      "cell_type": "code",
      "source": [
        "conditions = [\n",
        "    ((train.Fare >= 0) & (train.Fare <= 50)),\n",
        "    ((train.Fare >= 51) & (train.Fare <= 100)),\n",
        "    ((train.Fare >= 101) & (train.Fare <= 200)),\n",
        "    ((train.Fare >= 201) & (train.Fare <= 300)),\n",
        "    ((train.Fare >= 301) & (train.Fare <= 515))\n",
        "]\n",
        "choices = ['1', '2', '3', '4', '5']\n",
        "\n",
        "train['Fare_range'] = np.select(conditions, choices)"
      ],
      "metadata": {
        "id": "A9HVDT_N8wmB"
      },
      "execution_count": 50,
      "outputs": []
    },
    {
      "cell_type": "code",
      "source": [
        "# checking for multicollinearity\n",
        "corr = train.corr()\n",
        "vif = pd.DataFrame(np.linalg.inv(corr.values), index = corr.index, columns = corr.columns)\n",
        "\n",
        "# using a heatmap to display the results\n",
        "plt.figure(figsize = (15, 10))\n",
        "sns.heatmap(vif, annot = True)"
      ],
      "metadata": {
        "colab": {
          "base_uri": "https://localhost:8080/",
          "height": 609
        },
        "id": "wktjmB4i8wr5",
        "outputId": "7353ea27-8d55-4b59-a4d7-c9be2ebd2a77"
      },
      "execution_count": 59,
      "outputs": [
        {
          "output_type": "execute_result",
          "data": {
            "text/plain": [
              "<matplotlib.axes._subplots.AxesSubplot at 0x7f173527da10>"
            ]
          },
          "metadata": {},
          "execution_count": 59
        },
        {
          "output_type": "display_data",
          "data": {
            "image/png": "[encoded data removed]",
            "text/plain": [
              "<Figure size 1080x720 with 2 Axes>"
            ]
          },
          "metadata": {
            "needs_background": "light"
          }
        }
      ]
    },
    {
      "cell_type": "markdown",
      "source": [
        "All our variables have Variance Inflation Factor (VIF) scores which are nowhere near 5, which would have made them really problematic. There is no need of dropping any columns.\n",
        "\n"
      ],
      "metadata": {
        "id": "fCEOD2sjAlKV"
      }
    },
    {
      "cell_type": "markdown",
      "source": [
        "##4.Modeling - K Nearest Neighbor (KNN)##\n"
      ],
      "metadata": {
        "id": "dSHAcxwcAuYT"
      }
    },
    {
      "cell_type": "code",
      "source": [
        "# splitting our data into attributes and label\n",
        "X = train.drop(columns = ['Survived']).values\n",
        "y = train['Survived'].values\n",
        "print(X.shape)\n",
        "print(y.shape)"
      ],
      "metadata": {
        "colab": {
          "base_uri": "https://localhost:8080/"
        },
        "id": "MRYxRU6TAbmL",
        "outputId": "20132149-b2af-4771-e47b-3ca79a778730"
      },
      "execution_count": 60,
      "outputs": [
        {
          "output_type": "stream",
          "name": "stdout",
          "text": [
            "(772, 9)\n",
            "(772,)\n"
          ]
        }
      ]
    },
    {
      "cell_type": "markdown",
      "source": [
        "###4.1 KNN without splitting###\n"
      ],
      "metadata": {
        "id": "srosGg2ZBYAF"
      }
    },
    {
      "cell_type": "code",
      "source": [
        "from sklearn.neighbors import KNeighborsClassifier\n",
        "\n",
        "# fitting the classifier\n",
        "classifier = KNeighborsClassifier(n_neighbors = 5)\n",
        "classifier.fit(X, y)\n",
        "\n",
        "# making predictions\n",
        "y_pred = classifier.predict(X)\n",
        "\n",
        "# evaluating the classifier\n",
        "from sklearn.metrics import accuracy_score, classification_report, confusion_matrix\n",
        "print(\"Accuracy score:\",accuracy_score(y, y_pred))\n",
        "\n",
        "print(confusion_matrix(y, y_pred))\n",
        "print(classification_report(y, y_pred))"
      ],
      "metadata": {
        "colab": {
          "base_uri": "https://localhost:8080/"
        },
        "id": "7YGVg5E1AbpO",
        "outputId": "aa0fa5da-6cdc-4020-f068-2a942163ba77"
      },
      "execution_count": 61,
      "outputs": [
        {
          "output_type": "stream",
          "name": "stdout",
          "text": [
            "Accuracy score: 0.7875647668393783\n",
            "[[387  67]\n",
            " [ 97 221]]\n",
            "              precision    recall  f1-score   support\n",
            "\n",
            "           0       0.80      0.85      0.83       454\n",
            "           1       0.77      0.69      0.73       318\n",
            "\n",
            "    accuracy                           0.79       772\n",
            "   macro avg       0.78      0.77      0.78       772\n",
            "weighted avg       0.79      0.79      0.79       772\n",
            "\n"
          ]
        }
      ]
    },
    {
      "cell_type": "markdown",
      "source": [
        "We see that the accuracy of our model without splitting the data into train and test sets is 79%.\n",
        "\n"
      ],
      "metadata": {
        "id": "3pQAboHIBo5s"
      }
    },
    {
      "cell_type": "markdown",
      "source": [
        "###4.2 KNN with train-test splits###\n",
        "\n",
        "We will use a loop to loop through a list of possible test cases to determine which one provides the best accuracy.\n",
        "\n",
        "\n"
      ],
      "metadata": {
        "id": "C5tiLHeMBzCx"
      }
    },
    {
      "cell_type": "code",
      "source": [
        "my_tests = [0.1, 0.2, 0.3, 0.4, 0.5]\n",
        "\n",
        "from sklearn.model_selection import train_test_split as tts\n",
        "from sklearn.preprocessing import StandardScaler\n",
        "\n",
        "for test in my_tests:\n",
        "    X_train, X_test, y_train, y_test = tts(X, y, test_size = test, random_state = 12)\n",
        "    \n",
        "    # scaling the training data\n",
        "    scaler = StandardScaler()\n",
        "    scaler.fit(X_train)\n",
        "    \n",
        "    X_train = scaler.transform(X_train)\n",
        "    X_test = scaler.transform(X_test)\n",
        "    \n",
        "    # fitting to classifier\n",
        "    classifier = KNeighborsClassifier(n_neighbors = 5)\n",
        "    classifier.fit(X_train, y_train)\n",
        "    \n",
        "    # making predictions\n",
        "    y_pred = classifier.predict(X_test)\n",
        "\n",
        "    # evaluating the algorithm\n",
        "    print(\"Test size {} has Accuracy score:\".format(test),accuracy_score(y_test, y_pred))"
      ],
      "metadata": {
        "colab": {
          "base_uri": "https://localhost:8080/"
        },
        "id": "9UnZptTPBSB1",
        "outputId": "50837360-2d25-4f48-f791-9917896295a6"
      },
      "execution_count": 62,
      "outputs": [
        {
          "output_type": "stream",
          "name": "stdout",
          "text": [
            "Test size 0.1 has Accuracy score: 0.7948717948717948\n",
            "Test size 0.2 has Accuracy score: 0.7548387096774194\n",
            "Test size 0.3 has Accuracy score: 0.7844827586206896\n",
            "Test size 0.4 has Accuracy score: 0.7993527508090615\n",
            "Test size 0.5 has Accuracy score: 0.7901554404145078\n"
          ]
        }
      ]
    },
    {
      "cell_type": "markdown",
      "source": [
        " We can see that the 60-40 split  is  more accurate than carrying out the predictions without splitting the dataset into training and testing sets."
      ],
      "metadata": {
        "id": "uB4v_PTuCM0M"
      }
    },
    {
      "cell_type": "markdown",
      "source": [
        "###4.3 KNN Hyperparameter Tuning###\n"
      ],
      "metadata": {
        "id": "5m_pC2pDCeI2"
      }
    },
    {
      "cell_type": "markdown",
      "source": [
        "###4.3.1 90-10 split###\n"
      ],
      "metadata": {
        "id": "e7S4p-RFCp5p"
      }
    },
    {
      "cell_type": "code",
      "source": [
        "# dictionary to store accuracy scores\n",
        "acc_results = {}\n",
        "\n",
        "# selecting 90-10 train-test split\n",
        "X_train, X_test, y_train, y_test = tts(X, y, test_size = 0.1, random_state = 12)\n",
        "\n",
        "neighbor_range = np.arange(1, 51)\n",
        "\n",
        "for nei in neighbor_range: \n",
        "    classifier = KNeighborsClassifier(n_neighbors = nei)\n",
        "    classifier.fit(X_train, y_train)\n",
        "    y_pred = classifier.predict(X_test)\n",
        "    accuracy = round(accuracy_score(y_test, y_pred), 2)\n",
        "    acc_results[nei] = accuracy\n",
        "\n",
        "# getting the most accurate k value\n",
        "key_list = list(acc_results.keys())\n",
        "value_list = list(acc_results.values())\n",
        "max_acc = pd.Series(acc_results).max()\n",
        "max_k = key_list[value_list.index(pd.Series(acc_results).max())]\n",
        "print(\"A k value of {} for this train-test split gave an accuracy of {}\".format(max_k,\n",
        "                                                                                       (max_acc * 100)))"
      ],
      "metadata": {
        "colab": {
          "base_uri": "https://localhost:8080/"
        },
        "id": "rC73yOgDBSEF",
        "outputId": "3cb73df4-8711-40a5-dac0-80489648d985"
      },
      "execution_count": 78,
      "outputs": [
        {
          "output_type": "stream",
          "name": "stdout",
          "text": [
            "A k value of 6 for this train-test split gave an accuracy of 73.0\n"
          ]
        }
      ]
    },
    {
      "cell_type": "code",
      "source": [
        "# optimizing by normalizing\n",
        "from sklearn.preprocessing import Normalizer\n",
        "normal = Normalizer()\n",
        "X_train = normal.fit_transform(X_train)\n",
        "X_test = normal.transform(X_test)\n",
        "\n",
        "from sklearn.model_selection import KFold, RandomizedSearchCV\n",
        "\n",
        "knn = KNeighborsClassifier()\n",
        "\n",
        "params = {'n_neighbors' : neighbor_range,\n",
        "         'weights' : ['uniform', 'distance'],\n",
        "         'metric' : ['manhattan', 'euclidean', 'minkowski']}\n",
        "\n",
        "kfolds = KFold(n_splits = 20)\n",
        "rscv = RandomizedSearchCV(knn, params, random_state = 12)\n",
        "rscv.fit(X_train, y_train)\n",
        "print(\"Best parameters:\", rscv.best_params_)"
      ],
      "metadata": {
        "colab": {
          "base_uri": "https://localhost:8080/"
        },
        "id": "NFx6ryviBSHR",
        "outputId": "bd3ef6c8-fec9-40fa-d116-d2ae6aea08fd"
      },
      "execution_count": 64,
      "outputs": [
        {
          "output_type": "stream",
          "name": "stdout",
          "text": [
            "Best parameters: {'weights': 'distance', 'n_neighbors': 34, 'metric': 'manhattan'}\n"
          ]
        }
      ]
    },
    {
      "cell_type": "code",
      "source": [
        "# now implementing using the recommended best parameters\n",
        "classifier = KNeighborsClassifier(n_neighbors = 34, weights = 'distance', metric = 'manhattan')\n",
        "classifier.fit(X_train, y_train)\n",
        "\n",
        "# making predictions\n",
        "y_pred = classifier.predict(X_test)\n",
        "\n",
        "# evaluating the algorithm\n",
        "print(\"Accuracy score:\", accuracy_score(y_test, y_pred))\n",
        "\n",
        "print(confusion_matrix(y_test, y_pred))\n",
        "print(classification_report(y_test, y_pred))"
      ],
      "metadata": {
        "colab": {
          "base_uri": "https://localhost:8080/"
        },
        "id": "_pVhXogqAbsI",
        "outputId": "c7fdfd65-807b-4e3a-e094-eeddf5ffefca"
      },
      "execution_count": 65,
      "outputs": [
        {
          "output_type": "stream",
          "name": "stdout",
          "text": [
            "Accuracy score: 0.7051282051282052\n",
            "[[34 13]\n",
            " [10 21]]\n",
            "              precision    recall  f1-score   support\n",
            "\n",
            "           0       0.77      0.72      0.75        47\n",
            "           1       0.62      0.68      0.65        31\n",
            "\n",
            "    accuracy                           0.71        78\n",
            "   macro avg       0.70      0.70      0.70        78\n",
            "weighted avg       0.71      0.71      0.71        78\n",
            "\n"
          ]
        }
      ]
    },
    {
      "cell_type": "markdown",
      "source": [
        "The accuracy score for the 90-10 split was 79.4% but after getting the best value of k,we got an accuracy of 73%."
      ],
      "metadata": {
        "id": "ROXdnYLaDkMX"
      }
    },
    {
      "cell_type": "markdown",
      "source": [
        "###4.3.2 80-20 split###\n"
      ],
      "metadata": {
        "id": "iradouaYDo86"
      }
    },
    {
      "cell_type": "code",
      "source": [
        "# dictionary to store accuracy scores\n",
        "acc_results = {}\n",
        "\n",
        "# selecting 80-20 train-test split\n",
        "X_train, X_test, y_train, y_test = tts(X, y, test_size = 0.2, random_state = 12)\n",
        "\n",
        "for nei in neighbor_range: \n",
        "    classifier = KNeighborsClassifier(n_neighbors = nei)\n",
        "    classifier.fit(X_train, y_train)\n",
        "    y_pred = classifier.predict(X_test)\n",
        "    accuracy = round(accuracy_score(y_test, y_pred), 2)\n",
        "    acc_results[nei] = accuracy\n",
        "\n",
        "# getting the most accurate k value\n",
        "key_list = list(acc_results.keys())\n",
        "value_list = list(acc_results.values())\n",
        "max_acc = pd.Series(acc_results).max()\n",
        "max_k = key_list[value_list.index(pd.Series(acc_results).max())]\n",
        "print(\"A k value of {} for this train-test split gave an accuracy of {}\".format(max_k, \n",
        "                                                                                       (max_acc * 100)))"
      ],
      "metadata": {
        "colab": {
          "base_uri": "https://localhost:8080/"
        },
        "id": "SrdGeyB3DfJg",
        "outputId": "f4775112-21cc-4eaa-9b18-64cb470f254a"
      },
      "execution_count": 79,
      "outputs": [
        {
          "output_type": "stream",
          "name": "stdout",
          "text": [
            "A k value of 13 for this train-test split gave an accuracy of 73.0\n"
          ]
        }
      ]
    },
    {
      "cell_type": "code",
      "source": [
        "# optimizing by normalizing\n",
        "normal = Normalizer()\n",
        "X_train = normal.fit_transform(X_train)\n",
        "X_test = normal.transform(X_test)\n",
        "\n",
        "neighbor_range = np.arange(1, 51)\n",
        "knn = KNeighborsClassifier()\n",
        "\n",
        "params = {'n_neighbors' : neighbor_range,\n",
        "         'weights' : ['uniform', 'distance'],\n",
        "         'metric' : ['manhattan', 'euclidean', 'minkowski']}\n",
        "\n",
        "kfolds = KFold(n_splits = 20)\n",
        "rscv = RandomizedSearchCV(knn, params, random_state = 12)\n",
        "rscv.fit(X_train, y_train)\n",
        "print(\"Best parameters:\", rscv.best_params_)"
      ],
      "metadata": {
        "colab": {
          "base_uri": "https://localhost:8080/"
        },
        "id": "sMCL8yBfDfNL",
        "outputId": "40e540f7-c8c0-41b5-94bc-15e149e3cc2f"
      },
      "execution_count": 67,
      "outputs": [
        {
          "output_type": "stream",
          "name": "stdout",
          "text": [
            "Best parameters: {'weights': 'distance', 'n_neighbors': 34, 'metric': 'manhattan'}\n"
          ]
        }
      ]
    },
    {
      "cell_type": "code",
      "source": [
        "# now implementing using the recommended best parameters\n",
        "classifier = KNeighborsClassifier(n_neighbors = 39, weights = 'distance', metric = 'manhattan')\n",
        "classifier.fit(X_train, y_train)\n",
        "\n",
        "# making predictions\n",
        "y_pred = classifier.predict(X_test)\n",
        "\n",
        "# evaluating the algorithm\n",
        "print(\"Accuracy score:\", accuracy_score(y_test, y_pred))\n",
        "\n",
        "print(confusion_matrix(y_test, y_pred))\n",
        "print(classification_report(y_test, y_pred))"
      ],
      "metadata": {
        "colab": {
          "base_uri": "https://localhost:8080/"
        },
        "id": "NvIGZAWqDfQx",
        "outputId": "cb042f28-6ecd-4d5c-de59-076a87808e38"
      },
      "execution_count": 68,
      "outputs": [
        {
          "output_type": "stream",
          "name": "stdout",
          "text": [
            "Accuracy score: 0.6645161290322581\n",
            "[[66 30]\n",
            " [22 37]]\n",
            "              precision    recall  f1-score   support\n",
            "\n",
            "           0       0.75      0.69      0.72        96\n",
            "           1       0.55      0.63      0.59        59\n",
            "\n",
            "    accuracy                           0.66       155\n",
            "   macro avg       0.65      0.66      0.65       155\n",
            "weighted avg       0.67      0.66      0.67       155\n",
            "\n"
          ]
        }
      ]
    },
    {
      "cell_type": "markdown",
      "source": [
        "The accuracy score for the 80-20 split was 78.7% but after getting the best value of k,we got an accuracy of 73%.\n",
        "\n"
      ],
      "metadata": {
        "id": "6GDMUT_EEQsA"
      }
    },
    {
      "cell_type": "markdown",
      "source": [
        "###4.3.3 70-30 split###\n"
      ],
      "metadata": {
        "id": "cLH5IA4LEh_l"
      }
    },
    {
      "cell_type": "code",
      "source": [
        "# dictionary to store accuracy scores\n",
        "acc_results = {}\n",
        "\n",
        "# selecting 70-30 train-test split\n",
        "X_train, X_test, y_train, y_test = tts(X, y, test_size = 0.3, random_state = 12)\n",
        "\n",
        "for nei in neighbor_range: \n",
        "    classifier = KNeighborsClassifier(n_neighbors = nei)\n",
        "    classifier.fit(X_train, y_train)\n",
        "    y_pred = classifier.predict(X_test)\n",
        "    accuracy = round(accuracy_score(y_test, y_pred), 2)\n",
        "    acc_results[nei] = accuracy\n",
        "\n",
        "# getting the most accurate k value\n",
        "key_list = list(acc_results.keys())\n",
        "value_list = list(acc_results.values())\n",
        "max_acc = pd.Series(acc_results).max()\n",
        "max_k = key_list[value_list.index(pd.Series(acc_results).max())]\n",
        "print(\"A k value of {} for this train-test split gave an accuracy of {}\".format(max_k, \n",
        "                                                                                       (max_acc * 100)))"
      ],
      "metadata": {
        "colab": {
          "base_uri": "https://localhost:8080/"
        },
        "id": "vIUeJJ63DfUm",
        "outputId": "5f3ee3e0-db19-4f31-d1af-c5c55c44b0c3"
      },
      "execution_count": 81,
      "outputs": [
        {
          "output_type": "stream",
          "name": "stdout",
          "text": [
            "A k value of 20 for this train-test split gave an accuracy of 74.0\n"
          ]
        }
      ]
    },
    {
      "cell_type": "code",
      "source": [
        "# optimizing by normalizing\n",
        "normal = Normalizer()\n",
        "X_train = normal.fit_transform(X_train)\n",
        "X_test = normal.transform(X_test)\n",
        "\n",
        "neighbor_range = np.arange(1, 51)\n",
        "knn = KNeighborsClassifier()\n",
        "\n",
        "params = {'n_neighbors' : neighbor_range,\n",
        "         'weights' : ['uniform', 'distance'],\n",
        "         'metric' : ['manhattan', 'euclidean', 'minkowski']}\n",
        "\n",
        "kfolds = KFold(n_splits = 20)\n",
        "rscv = RandomizedSearchCV(knn, params, random_state = 12)\n",
        "rscv.fit(X_train, y_train)\n",
        "print(\"Best parameters:\", rscv.best_params_)"
      ],
      "metadata": {
        "colab": {
          "base_uri": "https://localhost:8080/"
        },
        "id": "AJ5QPb_jESlM",
        "outputId": "3e610de0-3f07-4884-df8a-7ac0edb2099c"
      },
      "execution_count": 70,
      "outputs": [
        {
          "output_type": "stream",
          "name": "stdout",
          "text": [
            "Best parameters: {'weights': 'distance', 'n_neighbors': 39, 'metric': 'manhattan'}\n"
          ]
        }
      ]
    },
    {
      "cell_type": "code",
      "source": [
        "# now implementing using the recommended best parameters\n",
        "classifier = KNeighborsClassifier(n_neighbors = 34, weights = 'distance', metric = 'manhattan')\n",
        "classifier.fit(X_train, y_train)\n",
        "\n",
        "# making predictions\n",
        "y_pred = classifier.predict(X_test)\n",
        "\n",
        "# evaluating the algorithm\n",
        "print(\"Accuracy score:\", accuracy_score(y_test, y_pred))\n",
        "\n",
        "print(confusion_matrix(y_test, y_pred))\n",
        "print(classification_report(y_test, y_pred))"
      ],
      "metadata": {
        "colab": {
          "base_uri": "https://localhost:8080/"
        },
        "id": "3NFi67C1ESol",
        "outputId": "c69ce141-4716-42f2-dfb4-54773102fc9b"
      },
      "execution_count": 71,
      "outputs": [
        {
          "output_type": "stream",
          "name": "stdout",
          "text": [
            "Accuracy score: 0.6939655172413793\n",
            "[[99 44]\n",
            " [27 62]]\n",
            "              precision    recall  f1-score   support\n",
            "\n",
            "           0       0.79      0.69      0.74       143\n",
            "           1       0.58      0.70      0.64        89\n",
            "\n",
            "    accuracy                           0.69       232\n",
            "   macro avg       0.69      0.69      0.69       232\n",
            "weighted avg       0.71      0.69      0.70       232\n",
            "\n"
          ]
        }
      ]
    },
    {
      "cell_type": "markdown",
      "source": [
        "The accuracy score for the 70-30 split was 77.1% but after getting the best value of k,we got an accuracy of 74%.\n",
        "\n"
      ],
      "metadata": {
        "id": "vmpVbV1RFHQ8"
      }
    },
    {
      "cell_type": "markdown",
      "source": [
        "###4.3.4 60-40 split###\n"
      ],
      "metadata": {
        "id": "pbzH2xZ9FLTx"
      }
    },
    {
      "cell_type": "code",
      "source": [
        "# dictionary to store accuracy scores\n",
        "acc_results = {}\n",
        "\n",
        "# selecting 60-40 train-test split\n",
        "X_train, X_test, y_train, y_test = tts(X, y, test_size = 0.4, random_state = 12)\n",
        "\n",
        "for nei in neighbor_range: \n",
        "    classifier = KNeighborsClassifier(n_neighbors = nei)\n",
        "    classifier.fit(X_train, y_train)\n",
        "    y_pred = classifier.predict(X_test)\n",
        "    accuracy = round(accuracy_score(y_test, y_pred), 2)\n",
        "    acc_results[nei] = accuracy\n",
        "\n",
        "# getting the most accurate k value\n",
        "key_list = list(acc_results.keys())\n",
        "value_list = list(acc_results.values())\n",
        "max_acc = pd.Series(acc_results).max()\n",
        "max_k = key_list[value_list.index(pd.Series(acc_results).max())]\n",
        "print(\"A k value of {} for this train-test split gave an accuracy of {}\".format(max_k, \n",
        "                                                                                       (max_acc * 100)))"
      ],
      "metadata": {
        "colab": {
          "base_uri": "https://localhost:8080/"
        },
        "id": "dK4Ypc94ESrx",
        "outputId": "5e8142c0-7add-4ca0-fbe3-f25378335b5b"
      },
      "execution_count": 82,
      "outputs": [
        {
          "output_type": "stream",
          "name": "stdout",
          "text": [
            "A k value of 15 for this train-test split gave an accuracy of 72.0\n"
          ]
        }
      ]
    },
    {
      "cell_type": "code",
      "source": [
        "# optimizing by normalizing\n",
        "normal = Normalizer()\n",
        "X_train = normal.fit_transform(X_train)\n",
        "X_test = normal.transform(X_test)\n",
        "\n",
        "neighbor_range = np.arange(1, 51)\n",
        "knn = KNeighborsClassifier()\n",
        "\n",
        "params = {'n_neighbors' : neighbor_range,\n",
        "         'weights' : ['uniform', 'distance'],\n",
        "         'metric' : ['manhattan', 'euclidean', 'minkowski']}\n",
        "\n",
        "kfolds = KFold(n_splits = 20)\n",
        "rscv = RandomizedSearchCV(knn, params, random_state = 12)\n",
        "rscv.fit(X_train, y_train)\n",
        "print(\"Best parameters:\", rscv.best_params_)"
      ],
      "metadata": {
        "colab": {
          "base_uri": "https://localhost:8080/"
        },
        "id": "CwlobwhgFd69",
        "outputId": "a6f6e390-8fcb-4c1d-e7b5-1a61285e6c54"
      },
      "execution_count": 73,
      "outputs": [
        {
          "output_type": "stream",
          "name": "stdout",
          "text": [
            "Best parameters: {'weights': 'distance', 'n_neighbors': 34, 'metric': 'manhattan'}\n"
          ]
        }
      ]
    },
    {
      "cell_type": "code",
      "source": [
        "# now implementing using the recommended best parameters\n",
        "classifier = KNeighborsClassifier(n_neighbors = 34, weights = 'distance', metric = 'manhattan')\n",
        "classifier.fit(X_train, y_train)\n",
        "\n",
        "# making predictions\n",
        "y_pred = classifier.predict(X_test)\n",
        "\n",
        "# evaluating the algorithm\n",
        "print(\"Accuracy score:\", accuracy_score(y_test, y_pred))\n",
        "\n",
        "print(confusion_matrix(y_test, y_pred))\n",
        "print(classification_report(y_test, y_pred))"
      ],
      "metadata": {
        "colab": {
          "base_uri": "https://localhost:8080/"
        },
        "id": "c88_ZUYrFd-Z",
        "outputId": "41224600-635a-4f73-9f4b-d854f605b33f"
      },
      "execution_count": 74,
      "outputs": [
        {
          "output_type": "stream",
          "name": "stdout",
          "text": [
            "Accuracy score: 0.6957928802588996\n",
            "[[135  57]\n",
            " [ 37  80]]\n",
            "              precision    recall  f1-score   support\n",
            "\n",
            "           0       0.78      0.70      0.74       192\n",
            "           1       0.58      0.68      0.63       117\n",
            "\n",
            "    accuracy                           0.70       309\n",
            "   macro avg       0.68      0.69      0.69       309\n",
            "weighted avg       0.71      0.70      0.70       309\n",
            "\n"
          ]
        }
      ]
    },
    {
      "cell_type": "markdown",
      "source": [
        "The accuracy score for the 60-40 split was 79.6% but after getting the best value of k,we got an accuracy of 72%.."
      ],
      "metadata": {
        "id": "U6VKJr9FGVPJ"
      }
    },
    {
      "cell_type": "markdown",
      "source": [
        "##5.Conclusion & Challenging the Solution##\n",
        "To conclude, we see that the accuracy score is highest for the 60-40 split without any hyperparameter tuning (79.6%). With hyperparameter tuning, the accuracy score went down\n",
        "\n",
        " We will challenge our solution by applying gradient boosting.\n"
      ],
      "metadata": {
        "id": "HZSPMVvPGaa2"
      }
    },
    {
      "cell_type": "code",
      "source": [
        "# use Gradient boosting\n",
        "from sklearn.ensemble import GradientBoostingClassifier\n",
        "\n",
        "# selecting 60-40 train-test split\n",
        "X_train, X_test, y_train, y_test = tts(X, y, test_size = 0.4, random_state = 12)\n",
        "\n",
        "# setting different learning rates, so that we can compare the performance of \n",
        "# the classifier's performance at different learning rates\n",
        "lr_list = [0.05, 0.075, 0.1, 0.25, 0.5, 0.75, 1]\n",
        "\n",
        "for learning_rate in lr_list:\n",
        "    gbc = GradientBoostingClassifier(n_estimators = 200, max_depth = 2,\n",
        "                                     learning_rate = learning_rate,\n",
        "                                     random_state = 12)\n",
        "    gbc.fit(X_train, y_train)\n",
        "\n",
        "    print(\"Learning rate:\", learning_rate)\n",
        "    print(\"Accuracy score (training): {0:.3f}\".format(gbc.score(X_train,\n",
        "                                                                   y_train)))\n",
        "    print(\"Accuracy score (validation): {0:.3f}\".format(gbc.score(X_test,\n",
        "                                                                     y_test)))\n",
        "    print(\"*******************************************\")"
      ],
      "metadata": {
        "colab": {
          "base_uri": "https://localhost:8080/"
        },
        "id": "XIQBHBZLFeAw",
        "outputId": "ee37bfec-bc91-4a80-f027-21ce93fb1534"
      },
      "execution_count": 75,
      "outputs": [
        {
          "output_type": "stream",
          "name": "stdout",
          "text": [
            "Learning rate: 0.05\n",
            "Accuracy score (training): 0.847\n",
            "Accuracy score (validation): 0.793\n",
            "*******************************************\n",
            "Learning rate: 0.075\n",
            "Accuracy score (training): 0.862\n",
            "Accuracy score (validation): 0.796\n",
            "*******************************************\n",
            "Learning rate: 0.1\n",
            "Accuracy score (training): 0.881\n",
            "Accuracy score (validation): 0.806\n",
            "*******************************************\n",
            "Learning rate: 0.25\n",
            "Accuracy score (training): 0.937\n",
            "Accuracy score (validation): 0.799\n",
            "*******************************************\n",
            "Learning rate: 0.5\n",
            "Accuracy score (training): 0.972\n",
            "Accuracy score (validation): 0.738\n",
            "*******************************************\n",
            "Learning rate: 0.75\n",
            "Accuracy score (training): 0.978\n",
            "Accuracy score (validation): 0.744\n",
            "*******************************************\n",
            "Learning rate: 1\n",
            "Accuracy score (training): 0.985\n",
            "Accuracy score (validation): 0.709\n",
            "*******************************************\n"
          ]
        }
      ]
    },
    {
      "cell_type": "markdown",
      "source": [
        "The learning rate of 0.1 gives us the best performance when it comes to validating, and good performance when it comes to training so we will use it as our parameter.\n",
        "\n"
      ],
      "metadata": {
        "id": "XFVNVgD3GsPh"
      }
    },
    {
      "cell_type": "code",
      "source": [
        "# now to use our selected learning rate to model\n",
        "grad = GradientBoostingClassifier(n_estimators = 200, max_depth = 2, \n",
        "                                  learning_rate = 0.1, random_state = 0)\n",
        "\n",
        "# fitting to training data\n",
        "grad.fit(X_train, y_train)\n",
        "\n",
        "# making predictions\n",
        "grad_y_pred = grad.predict(X_test)\n",
        "\n",
        "# evaluating the algorithm\n",
        "print(\"Confusion Matrix:\")\n",
        "print(confusion_matrix(y_test, grad_y_pred))\n",
        "print(\"Classification Report\")\n",
        "print(classification_report(y_test, grad_y_pred))"
      ],
      "metadata": {
        "colab": {
          "base_uri": "https://localhost:8080/"
        },
        "id": "hJ5xAnYdGkkp",
        "outputId": "ae6bad95-cf32-4a9d-9e64-2ccfcf5db5f4"
      },
      "execution_count": 83,
      "outputs": [
        {
          "output_type": "stream",
          "name": "stdout",
          "text": [
            "Confusion Matrix:\n",
            "[[161  31]\n",
            " [ 29  88]]\n",
            "Classification Report\n",
            "              precision    recall  f1-score   support\n",
            "\n",
            "           0       0.85      0.84      0.84       192\n",
            "           1       0.74      0.75      0.75       117\n",
            "\n",
            "    accuracy                           0.81       309\n",
            "   macro avg       0.79      0.80      0.79       309\n",
            "weighted avg       0.81      0.81      0.81       309\n",
            "\n"
          ]
        }
      ]
    },
    {
      "cell_type": "markdown",
      "source": [
        "Accuracy has gone up to 81% by using gradient boosting, which is a slight improvement but passes the metric for success."
      ],
      "metadata": {
        "id": "cleYEtOFGyVj"
      }
    }
  ]
}